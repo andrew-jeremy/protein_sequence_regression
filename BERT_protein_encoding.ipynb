{
  "cells": [
    {
      "cell_type": "markdown",
      "metadata": {
        "id": "39U-XP7sVZK6"
      },
      "source": [
        "# Tasks Assessing Protein Embeddings (TAPE)\n",
        "https://github.com/songlab-cal/tape"
      ]
    },
    {
      "cell_type": "code",
      "execution_count": null,
      "metadata": {
        "colab": {
          "base_uri": "https://localhost:8080/"
        },
        "id": "hgMP5g4WVX5_",
        "outputId": "7b9b8967-e54d-4d2e-b69d-81ab72618b5d"
      },
      "outputs": [
        {
          "name": "stdout",
          "output_type": "stream",
          "text": [
            "Mounted at /content/gdrive/\n"
          ]
        }
      ],
      "source": [
        "# need this code1q snippet in each notebook to mount the google drive\n",
        "from google.colab import drive  \n",
        "drive.mount('/content/gdrive/')"
      ]
    },
    {
      "cell_type": "code",
      "execution_count": null,
      "metadata": {
        "id": "dJOcx8oBVnSw"
      },
      "outputs": [],
      "source": [
        "%%capture\n",
        "!pip install tape_proteins"
      ]
    },
    {
      "cell_type": "code",
      "execution_count": null,
      "metadata": {
        "id": "J0VPfce4WMvj"
      },
      "outputs": [],
      "source": [
        "import numpy as np\n",
        "import torch\n",
        "from tape import ProteinBertModel, TAPETokenizer\n",
        "MAX_PROT_LEN = 810\n",
        "\n",
        "model = ProteinBertModel.from_pretrained('bert-base')\n",
        "tokenizer = TAPETokenizer(vocab='iupac')  # iupac is the vocab for TAPE models, use unirep for the UniRep model\n",
        "#tokenizer = TAPETokenizer(vocab='unirep')\n",
        "\n",
        "# Pfam Family: Hexapep, Clan: CL0536\n",
        "sequence = 'GCTVEDRCLIGMGAILLNGCVIGSGSLVAAGALITQ'\n",
        "#sequence = 'MAASGKTSKSEPNHVIFKKISRDKSVTIYLGNRDYIDHVSQVQPVDGVVLVDPDLVKGKKVYVTLTCAFRYGQEDIDVIGLTFRRDLYFSRVQVYPPVGAASTPTKLQESLLKKLGSNTYPFLLTFPDYLPCSVMLQPAPQDSGKSCGVDFEVKAFATDSTDAEEDKIPKKSSVRLLIRKVQHAPLEMGPQPRAEAAWQFFMSDKPLHLAVSLNKEIYFHGEPIPVTVTVTNNTEKTVKKIKAFVEQVANVVLYSSDYYVKPVAMEEAQEKVPPNSTLTKTLTLLPLLANNRERRGIALDGKIKHEDTNLASSTIIKEGIDRTVLGILVSYQIKVKLTVSGFLGELTSSEVATEVPFRLMHPQPEDPAKESYQDANLVFEEFARHNLKDAGEAEEGKRDKNDVDE'\n",
        "token_ids = torch.tensor([tokenizer.encode(sequence)])\n",
        "\n",
        "# now pad zeros\n",
        "a = token_ids[0].cpu().detach().numpy()\n",
        "b=np.array([np.pad(a,(0, MAX_PROT_LEN-len(sequence)), 'constant')])\n",
        "token_ids = torch.from_numpy(b)\n",
        "output = model(token_ids)\n",
        "sequence_output = output[0]"
      ]
    },
    {
      "cell_type": "code",
      "execution_count": null,
      "metadata": {
        "colab": {
          "base_uri": "https://localhost:8080/"
        },
        "id": "JAulwXs4XfUo",
        "outputId": "ca13a3ae-7347-4dcc-b387-a472fd646435"
      },
      "outputs": [
        {
          "name": "stdout",
          "output_type": "stream",
          "text": [
            "36\n"
          ]
        }
      ],
      "source": [
        "print(len(sequence))"
      ]
    },
    {
      "cell_type": "code",
      "execution_count": null,
      "metadata": {
        "colab": {
          "base_uri": "https://localhost:8080/"
        },
        "id": "Lha5U1GfW3nq",
        "outputId": "38fe3592-7599-4bf9-c968-fa9362e1822b"
      },
      "outputs": [
        {
          "name": "stdout",
          "output_type": "stream",
          "text": [
            "torch.Size([1, 812, 768])\n"
          ]
        }
      ],
      "source": [
        "print(sequence_output.size())"
      ]
    },
    {
      "cell_type": "code",
      "execution_count": null,
      "metadata": {
        "colab": {
          "base_uri": "https://localhost:8080/"
        },
        "id": "4JkV_pSEBR9U",
        "outputId": "a17899f6-cb8b-4c39-8e45-ab1fa039daf6"
      },
      "outputs": [
        {
          "data": {
            "text/plain": [
              "torch.Size([1, 406, 768])"
            ]
          },
          "execution_count": 27,
          "metadata": {},
          "output_type": "execute_result"
        }
      ],
      "source": [
        "x = sequence_output[:,:sequence_output.size(1)//2,:]\n",
        "x.size()"
      ]
    },
    {
      "cell_type": "code",
      "execution_count": null,
      "metadata": {
        "id": "JFlL48TSnSUj"
      },
      "outputs": [],
      "source": [
        "token_ids = tokenizer.encode(sequence)"
      ]
    },
    {
      "cell_type": "code",
      "execution_count": null,
      "metadata": {
        "colab": {
          "base_uri": "https://localhost:8080/"
        },
        "id": "s40ZX3pvnYHH",
        "outputId": "bab2272a-2497-4b68-ede1-9a71abb87729"
      },
      "outputs": [
        {
          "data": {
            "text/plain": [
              "array([11,  7, 23, 25,  9,  8, 21,  7, 15, 13, 11, 16, 11,  5, 13, 15, 15,\n",
              "       17, 11,  7, 25, 13, 11, 22, 11, 22, 15, 25,  5,  5, 11,  5, 15, 13,\n",
              "       23, 20])"
            ]
          },
          "execution_count": 29,
          "metadata": {},
          "output_type": "execute_result"
        }
      ],
      "source": [
        "token_ids[1:-1]"
      ]
    },
    {
      "cell_type": "code",
      "execution_count": null,
      "metadata": {
        "colab": {
          "base_uri": "https://localhost:8080/"
        },
        "id": "ksrNeWGFZHZC",
        "outputId": "4e027303-0f79-4cdb-eab5-5bb8c8b2a315"
      },
      "outputs": [
        {
          "data": {
            "text/plain": [
              "torch.Size([1, 812, 768])"
            ]
          },
          "execution_count": 52,
          "metadata": {},
          "output_type": "execute_result"
        }
      ],
      "source": [
        "output[0].size()"
      ]
    },
    {
      "cell_type": "markdown",
      "metadata": {
        "id": "ftLwl9rFOHbN"
      },
      "source": [
        "# Untrained Model"
      ]
    },
    {
      "cell_type": "markdown",
      "metadata": {
        "id": "WPGV4-UyVit2"
      },
      "source": []
    },
    {
      "cell_type": "code",
      "execution_count": null,
      "metadata": {
        "id": "C2nKrFvhJs3R"
      },
      "outputs": [],
      "source": [
        "def test_basic():\n",
        "    import torch\n",
        "    from tape import ProteinBertModel, ProteinBertConfig, TAPETokenizer  # type: ignore\n",
        "\n",
        "    config = ProteinBertConfig(hidden_size=480, intermediate_size=480 * 4, num_hidden_layers=12)\n",
        "    model = ProteinBertModel(config)\n",
        "    tokenizer = TAPETokenizer(vocab='iupac')\n",
        "\n",
        "    sequence = 'GCTVEDRCLIGMGAILLNGCVIGSGSLVAAGALITQ'\n",
        "    token_ids = torch.tensor([tokenizer.encode(sequence)])\n",
        "    output = model(token_ids)\n",
        "    sequence_output = output[0]  # noqa\n",
        "    pooled_output = output[1]  # noqa\n",
        "    return sequence_output"
      ]
    },
    {
      "cell_type": "code",
      "execution_count": null,
      "metadata": {
        "colab": {
          "base_uri": "https://localhost:8080/"
        },
        "id": "P5S-2pt0JvCk",
        "outputId": "0f37cf87-bc40-4a43-cf36-92be4ba753c5"
      },
      "outputs": [
        {
          "name": "stdout",
          "output_type": "stream",
          "text": [
            "torch.Size([1, 38, 480])\n"
          ]
        }
      ],
      "source": [
        "output = test_basic()\n",
        "print(output.size())"
      ]
    }
  ],
  "metadata": {
    "accelerator": "GPU",
    "colab": {
      "machine_shape": "hm",
      "provenance": []
    },
    "kernelspec": {
      "display_name": "Python 3",
      "name": "python3"
    },
    "language_info": {
      "name": "python"
    }
  },
  "nbformat": 4,
  "nbformat_minor": 0
}
