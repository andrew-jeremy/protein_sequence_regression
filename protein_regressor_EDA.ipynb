{
 "cells": [
  {
   "attachments": {},
   "cell_type": "markdown",
   "metadata": {},
   "source": [
    "# Regression Model to Predict Affinity from Protein Sequences using AlphaSeq Dataset\n",
    "\n",
    "# *Exploratory Data Analysis (EDA)*\n",
    "Andrew Kiruluta, 04/02/2023\n"
   ]
  },
  {
   "cell_type": "code",
   "execution_count": null,
   "metadata": {},
   "outputs": [
    {
     "data": {
      "text/plain": [
       "<torch._C.Generator at 0x7f9c49310930>"
      ]
     },
     "execution_count": 606,
     "metadata": {},
     "output_type": "execute_result"
    }
   ],
   "source": [
    "import numpy as np\n",
    "import matplotlib.pyplot as plt\n",
    "import pandas as pd\n",
    "import ast\n",
    "import torch\n",
    "import torch.nn as nn\n",
    "from torch.autograd import Variable\n",
    "from torch.utils.data import Dataset, DataLoader\n",
    "torch.manual_seed(5)"
   ]
  },
  {
   "cell_type": "code",
   "execution_count": null,
   "metadata": {},
   "outputs": [
    {
     "data": {
      "text/html": [
       "<div>\n",
       "<style scoped>\n",
       "    .dataframe tbody tr th:only-of-type {\n",
       "        vertical-align: middle;\n",
       "    }\n",
       "\n",
       "    .dataframe tbody tr th {\n",
       "        vertical-align: top;\n",
       "    }\n",
       "\n",
       "    .dataframe thead th {\n",
       "        text-align: right;\n",
       "    }\n",
       "</style>\n",
       "<table border=\"1\" class=\"dataframe\">\n",
       "  <thead>\n",
       "    <tr style=\"text-align: right;\">\n",
       "      <th></th>\n",
       "      <th>sequence_a</th>\n",
       "      <th>Kd</th>\n",
       "      <th>Kd_lower_bound</th>\n",
       "      <th>Kd_upper_bound</th>\n",
       "    </tr>\n",
       "  </thead>\n",
       "  <tbody>\n",
       "    <tr>\n",
       "      <th>0</th>\n",
       "      <td>MASQVQLVQSGVEVKKPGASVKVSCKASGYTFTNYYMYWVRQAPGQ...</td>\n",
       "      <td>1.241963</td>\n",
       "      <td>1.191959</td>\n",
       "      <td>1.291968</td>\n",
       "    </tr>\n",
       "    <tr>\n",
       "      <th>1</th>\n",
       "      <td>MASQVQLVQSGVEVKKPGASVKVSCKASGYTFTNYYMYWVRQAPGQ...</td>\n",
       "      <td>1.379355</td>\n",
       "      <td>1.318349</td>\n",
       "      <td>1.440361</td>\n",
       "    </tr>\n",
       "    <tr>\n",
       "      <th>2</th>\n",
       "      <td>MASQVQLVQSGVEVKKPGASVKVSCKASGYTFTNYYMYWVRQAPGQ...</td>\n",
       "      <td>1.152859</td>\n",
       "      <td>1.120984</td>\n",
       "      <td>1.184735</td>\n",
       "    </tr>\n",
       "    <tr>\n",
       "      <th>3</th>\n",
       "      <td>MASQVQLVQSGVEVKKPGASVKVSCKASGYTFTNYYMYWVRQAPGQ...</td>\n",
       "      <td>1.123487</td>\n",
       "      <td>1.082745</td>\n",
       "      <td>1.164230</td>\n",
       "    </tr>\n",
       "    <tr>\n",
       "      <th>4</th>\n",
       "      <td>MASQVQLVQSGVEVKKPGASVKVSCKASGYTFTNYYMYWVRQAPGQ...</td>\n",
       "      <td>1.161713</td>\n",
       "      <td>1.128016</td>\n",
       "      <td>1.195410</td>\n",
       "    </tr>\n",
       "  </tbody>\n",
       "</table>\n",
       "</div>"
      ],
      "text/plain": [
       "                                          sequence_a        Kd  \\\n",
       "0  MASQVQLVQSGVEVKKPGASVKVSCKASGYTFTNYYMYWVRQAPGQ...  1.241963   \n",
       "1  MASQVQLVQSGVEVKKPGASVKVSCKASGYTFTNYYMYWVRQAPGQ...  1.379355   \n",
       "2  MASQVQLVQSGVEVKKPGASVKVSCKASGYTFTNYYMYWVRQAPGQ...  1.152859   \n",
       "3  MASQVQLVQSGVEVKKPGASVKVSCKASGYTFTNYYMYWVRQAPGQ...  1.123487   \n",
       "4  MASQVQLVQSGVEVKKPGASVKVSCKASGYTFTNYYMYWVRQAPGQ...  1.161713   \n",
       "\n",
       "   Kd_lower_bound  Kd_upper_bound  \n",
       "0        1.191959        1.291968  \n",
       "1        1.318349        1.440361  \n",
       "2        1.120984        1.184735  \n",
       "3        1.082745        1.164230  \n",
       "4        1.128016        1.195410  "
      ]
     },
     "execution_count": 607,
     "metadata": {},
     "output_type": "execute_result"
    }
   ],
   "source": [
    "# pick out relevant columns\n",
    "fields = [\"sequence_a\",\"Kd\",\"Kd_lower_bound\",\"Kd_upper_bound\"]\n",
    "df= pd.read_csv('data/20230331_pembro_SSMplus_AlphaSeq_data.csv', usecols=fields)\n",
    "df.head(5)"
   ]
  },
  {
   "cell_type": "code",
   "execution_count": 608,
   "metadata": {},
   "outputs": [
    {
     "data": {
      "text/html": [
       "<div>\n",
       "<style scoped>\n",
       "    .dataframe tbody tr th:only-of-type {\n",
       "        vertical-align: middle;\n",
       "    }\n",
       "\n",
       "    .dataframe tbody tr th {\n",
       "        vertical-align: top;\n",
       "    }\n",
       "\n",
       "    .dataframe thead th {\n",
       "        text-align: right;\n",
       "    }\n",
       "</style>\n",
       "<table border=\"1\" class=\"dataframe\">\n",
       "  <thead>\n",
       "    <tr style=\"text-align: right;\">\n",
       "      <th></th>\n",
       "      <th>Kd</th>\n",
       "      <th>Kd_lower_bound</th>\n",
       "      <th>Kd_upper_bound</th>\n",
       "    </tr>\n",
       "  </thead>\n",
       "  <tbody>\n",
       "    <tr>\n",
       "      <th>count</th>\n",
       "      <td>29358.000000</td>\n",
       "      <td>30049.000000</td>\n",
       "      <td>29358.000000</td>\n",
       "    </tr>\n",
       "    <tr>\n",
       "      <th>mean</th>\n",
       "      <td>2.870087</td>\n",
       "      <td>2.512373</td>\n",
       "      <td>3.244432</td>\n",
       "    </tr>\n",
       "    <tr>\n",
       "      <th>std</th>\n",
       "      <td>0.802777</td>\n",
       "      <td>0.611098</td>\n",
       "      <td>1.018285</td>\n",
       "    </tr>\n",
       "    <tr>\n",
       "      <th>min</th>\n",
       "      <td>0.109426</td>\n",
       "      <td>0.088698</td>\n",
       "      <td>0.130155</td>\n",
       "    </tr>\n",
       "    <tr>\n",
       "      <th>25%</th>\n",
       "      <td>2.586133</td>\n",
       "      <td>2.372563</td>\n",
       "      <td>2.794151</td>\n",
       "    </tr>\n",
       "    <tr>\n",
       "      <th>50%</th>\n",
       "      <td>3.032297</td>\n",
       "      <td>2.666249</td>\n",
       "      <td>3.393826</td>\n",
       "    </tr>\n",
       "    <tr>\n",
       "      <th>75%</th>\n",
       "      <td>3.386192</td>\n",
       "      <td>2.888457</td>\n",
       "      <td>3.891682</td>\n",
       "    </tr>\n",
       "    <tr>\n",
       "      <th>max</th>\n",
       "      <td>4.912977</td>\n",
       "      <td>3.965893</td>\n",
       "      <td>5.934850</td>\n",
       "    </tr>\n",
       "  </tbody>\n",
       "</table>\n",
       "</div>"
      ],
      "text/plain": [
       "                 Kd  Kd_lower_bound  Kd_upper_bound\n",
       "count  29358.000000    30049.000000    29358.000000\n",
       "mean       2.870087        2.512373        3.244432\n",
       "std        0.802777        0.611098        1.018285\n",
       "min        0.109426        0.088698        0.130155\n",
       "25%        2.586133        2.372563        2.794151\n",
       "50%        3.032297        2.666249        3.393826\n",
       "75%        3.386192        2.888457        3.891682\n",
       "max        4.912977        3.965893        5.934850"
      ]
     },
     "execution_count": 608,
     "metadata": {},
     "output_type": "execute_result"
    }
   ],
   "source": [
    "# statistics of the target affinity value column\n",
    "df.describe()"
   ]
  },
  {
   "attachments": {},
   "cell_type": "markdown",
   "metadata": {},
   "source": [
    "* We will keep the lower and upper bounds of affinities for comparison to inference spread within these limits.\n",
    "* The affinity column which is our target has no infinities (we will check for nulls later) but the range between min/max is significant. We need to place the target on the same scale for the regression task - feature normalization."
   ]
  },
  {
   "cell_type": "code",
   "execution_count": 609,
   "metadata": {},
   "outputs": [
    {
     "data": {
      "text/plain": [
       "sequence_a          0\n",
       "Kd                691\n",
       "Kd_lower_bound      0\n",
       "Kd_upper_bound    691\n",
       "dtype: int64"
      ]
     },
     "execution_count": 609,
     "metadata": {},
     "output_type": "execute_result"
    }
   ],
   "source": [
    "# look for missing (NaN) values in the dataset\n",
    "df.isnull().sum()"
   ]
  },
  {
   "attachments": {},
   "cell_type": "markdown",
   "metadata": {},
   "source": [
    "691 protein sequences have NULL affinity (target) values. Without domain knowledge or background on the data, it makes sense to purge rows where Kd values are missing"
   ]
  },
  {
   "cell_type": "code",
   "execution_count": 610,
   "metadata": {},
   "outputs": [],
   "source": [
    "df = df[df['Kd'].notna()]  # take only rows where Kd is not NaN, purge NaNs"
   ]
  },
  {
   "attachments": {},
   "cell_type": "markdown",
   "metadata": {},
   "source": [
    "# *Analyzing Protein Sequence Statistics:*\n",
    "Protein sequence statistics visualizations are simple but very insightful: \n",
    "\n",
    "They include:\n",
    "\n",
    "        sequence frequency analysis,\n",
    "        sequence length analysis,\n",
    "        average sequence length analysis,\n",
    "        etc\n",
    "These really help explore the fundamental characteristics of the protein sequence data.\n",
    "\n",
    "To do so, we will be using histograms (continuous data) and bar charts (categorical data).\n",
    "\n",
    "First, let us take a look at the distribution of protein sequence lengths in the dataset."
   ]
  },
  {
   "cell_type": "code",
   "execution_count": 611,
   "metadata": {},
   "outputs": [
    {
     "data": {
      "text/plain": [
       "<AxesSubplot:>"
      ]
     },
     "execution_count": 611,
     "metadata": {},
     "output_type": "execute_result"
    },
    {
     "data": {
      "image/png": "[encoded data removed]",
      "text/plain": [
       "<Figure size 640x480 with 1 Axes>"
      ]
     },
     "metadata": {},
     "output_type": "display_data"
    }
   ],
   "source": [
    "df['sequence_a'].str.len().hist()"
   ]
  },
  {
   "cell_type": "code",
   "execution_count": 612,
   "metadata": {},
   "outputs": [
    {
     "data": {
      "text/plain": [
       "count    29358.0\n",
       "mean       252.0\n",
       "std          0.0\n",
       "min        252.0\n",
       "25%        252.0\n",
       "50%        252.0\n",
       "75%        252.0\n",
       "max        252.0\n",
       "Name: sequence_a, dtype: float64"
      ]
     },
     "execution_count": 612,
     "metadata": {},
     "output_type": "execute_result"
    }
   ],
   "source": [
    "# We see that all the protein sequences are of the same length, 252, no padding needed.\n",
    "df['sequence_a'].str.len().describe()"
   ]
  },
  {
   "cell_type": "code",
   "execution_count": 615,
   "metadata": {},
   "outputs": [
    {
     "data": {
      "text/plain": [
       "29199"
      ]
     },
     "execution_count": 615,
     "metadata": {},
     "output_type": "execute_result"
    }
   ],
   "source": [
    "# look for number of unique protein sequences in the dataset\n",
    "df['sequence_a'].nunique()"
   ]
  },
  {
   "cell_type": "code",
   "execution_count": 616,
   "metadata": {},
   "outputs": [
    {
     "name": "stdout",
     "output_type": "stream",
     "text": [
      "number of repeated protein sequences in dataset:  159\n"
     ]
    }
   ],
   "source": [
    "print(\"number of repeated protein sequences in dataset: \", df.shape[0] - df['sequence_a'].nunique())"
   ]
  },
  {
   "cell_type": "code",
   "execution_count": 617,
   "metadata": {},
   "outputs": [
    {
     "data": {
      "text/html": [
       "<div>\n",
       "<style scoped>\n",
       "    .dataframe tbody tr th:only-of-type {\n",
       "        vertical-align: middle;\n",
       "    }\n",
       "\n",
       "    .dataframe tbody tr th {\n",
       "        vertical-align: top;\n",
       "    }\n",
       "\n",
       "    .dataframe thead th {\n",
       "        text-align: right;\n",
       "    }\n",
       "</style>\n",
       "<table border=\"1\" class=\"dataframe\">\n",
       "  <thead>\n",
       "    <tr style=\"text-align: right;\">\n",
       "      <th></th>\n",
       "      <th>sequence_a</th>\n",
       "      <th>Kd</th>\n",
       "      <th>Kd_lower_bound</th>\n",
       "      <th>Kd_upper_bound</th>\n",
       "    </tr>\n",
       "  </thead>\n",
       "  <tbody>\n",
       "    <tr>\n",
       "      <th>1</th>\n",
       "      <td>MASQVQLVQSGVEVKKPGASVKVSCKASGYTFTNYYMYWVRQAPGQ...</td>\n",
       "      <td>1.379355</td>\n",
       "      <td>1.318349</td>\n",
       "      <td>1.440361</td>\n",
       "    </tr>\n",
       "    <tr>\n",
       "      <th>2</th>\n",
       "      <td>MASQVQLVQSGVEVKKPGASVKVSCKASGYTFTNYYMYWVRQAPGQ...</td>\n",
       "      <td>1.152859</td>\n",
       "      <td>1.120984</td>\n",
       "      <td>1.184735</td>\n",
       "    </tr>\n",
       "    <tr>\n",
       "      <th>3</th>\n",
       "      <td>MASQVQLVQSGVEVKKPGASVKVSCKASGYTFTNYYMYWVRQAPGQ...</td>\n",
       "      <td>1.123487</td>\n",
       "      <td>1.082745</td>\n",
       "      <td>1.164230</td>\n",
       "    </tr>\n",
       "    <tr>\n",
       "      <th>4</th>\n",
       "      <td>MASQVQLVQSGVEVKKPGASVKVSCKASGYTFTNYYMYWVRQAPGQ...</td>\n",
       "      <td>1.161713</td>\n",
       "      <td>1.128016</td>\n",
       "      <td>1.195410</td>\n",
       "    </tr>\n",
       "    <tr>\n",
       "      <th>5</th>\n",
       "      <td>MASQVQLVQSGVEVKKPGASVKVSCKASGYTFTNYYMYWVRQAPGQ...</td>\n",
       "      <td>1.225249</td>\n",
       "      <td>1.183534</td>\n",
       "      <td>1.266964</td>\n",
       "    </tr>\n",
       "    <tr>\n",
       "      <th>...</th>\n",
       "      <td>...</td>\n",
       "      <td>...</td>\n",
       "      <td>...</td>\n",
       "      <td>...</td>\n",
       "    </tr>\n",
       "    <tr>\n",
       "      <th>29093</th>\n",
       "      <td>MASQVQLVQSGVEVKKPGASVKVSCKASGYTFTNYYMYWVRQAPGQ...</td>\n",
       "      <td>2.920335</td>\n",
       "      <td>2.664129</td>\n",
       "      <td>3.176542</td>\n",
       "    </tr>\n",
       "    <tr>\n",
       "      <th>29094</th>\n",
       "      <td>MASQVQLVQSGVEVKKPGASVKVSCKASGYTFTNYYMYWVRQAPGQ...</td>\n",
       "      <td>2.828503</td>\n",
       "      <td>2.450093</td>\n",
       "      <td>3.206913</td>\n",
       "    </tr>\n",
       "    <tr>\n",
       "      <th>29096</th>\n",
       "      <td>MASQVQLVQSGVEVKKPGASVKVSCKASGYTFTNYYMYWVRQAPGQ...</td>\n",
       "      <td>2.794269</td>\n",
       "      <td>2.499184</td>\n",
       "      <td>3.089354</td>\n",
       "    </tr>\n",
       "    <tr>\n",
       "      <th>29097</th>\n",
       "      <td>MASQVQLVQSGVEVKKPGASVKVSCKASGYTFTNYYMYWVRQAPGQ...</td>\n",
       "      <td>2.515867</td>\n",
       "      <td>2.321546</td>\n",
       "      <td>2.710188</td>\n",
       "    </tr>\n",
       "    <tr>\n",
       "      <th>29098</th>\n",
       "      <td>MASQVQLVQSGVEVKKPGASVKVSCKASGYTFTNYYMYWVRQAPGQ...</td>\n",
       "      <td>2.635343</td>\n",
       "      <td>2.372587</td>\n",
       "      <td>2.898099</td>\n",
       "    </tr>\n",
       "  </tbody>\n",
       "</table>\n",
       "<p>159 rows × 4 columns</p>\n",
       "</div>"
      ],
      "text/plain": [
       "                                              sequence_a        Kd  \\\n",
       "1      MASQVQLVQSGVEVKKPGASVKVSCKASGYTFTNYYMYWVRQAPGQ...  1.379355   \n",
       "2      MASQVQLVQSGVEVKKPGASVKVSCKASGYTFTNYYMYWVRQAPGQ...  1.152859   \n",
       "3      MASQVQLVQSGVEVKKPGASVKVSCKASGYTFTNYYMYWVRQAPGQ...  1.123487   \n",
       "4      MASQVQLVQSGVEVKKPGASVKVSCKASGYTFTNYYMYWVRQAPGQ...  1.161713   \n",
       "5      MASQVQLVQSGVEVKKPGASVKVSCKASGYTFTNYYMYWVRQAPGQ...  1.225249   \n",
       "...                                                  ...       ...   \n",
       "29093  MASQVQLVQSGVEVKKPGASVKVSCKASGYTFTNYYMYWVRQAPGQ...  2.920335   \n",
       "29094  MASQVQLVQSGVEVKKPGASVKVSCKASGYTFTNYYMYWVRQAPGQ...  2.828503   \n",
       "29096  MASQVQLVQSGVEVKKPGASVKVSCKASGYTFTNYYMYWVRQAPGQ...  2.794269   \n",
       "29097  MASQVQLVQSGVEVKKPGASVKVSCKASGYTFTNYYMYWVRQAPGQ...  2.515867   \n",
       "29098  MASQVQLVQSGVEVKKPGASVKVSCKASGYTFTNYYMYWVRQAPGQ...  2.635343   \n",
       "\n",
       "       Kd_lower_bound  Kd_upper_bound  \n",
       "1            1.318349        1.440361  \n",
       "2            1.120984        1.184735  \n",
       "3            1.082745        1.164230  \n",
       "4            1.128016        1.195410  \n",
       "5            1.183534        1.266964  \n",
       "...               ...             ...  \n",
       "29093        2.664129        3.176542  \n",
       "29094        2.450093        3.206913  \n",
       "29096        2.499184        3.089354  \n",
       "29097        2.321546        2.710188  \n",
       "29098        2.372587        2.898099  \n",
       "\n",
       "[159 rows x 4 columns]"
      ]
     },
     "execution_count": 617,
     "metadata": {},
     "output_type": "execute_result"
    }
   ],
   "source": [
    "duplicate = df[df.duplicated('sequence_a')]\n",
    "duplicate"
   ]
  },
  {
   "cell_type": "code",
   "execution_count": 618,
   "metadata": {},
   "outputs": [
    {
     "data": {
      "text/plain": [
       "True"
      ]
     },
     "execution_count": 618,
     "metadata": {},
     "output_type": "execute_result"
    }
   ],
   "source": [
    "# an example of a sequence that appears twice in the dataset but with different affinity values \n",
    "# in contradictory Kd upper and lower bounds limits\n",
    "df['sequence_a'][0] == df['sequence_a'][1]"
   ]
  },
  {
   "attachments": {},
   "cell_type": "markdown",
   "metadata": {},
   "source": [
    "# Inconsistent Repeated Protein Sequences in the Data:\n",
    "We see that there are 159 repeated protein sequences with inconsistent affinity values (Kd) and unfortunately, the upper and lower affinity bounds are also different for each respective repeated sequence pairs. I would forgive these inconsistences if the affinity values fell within consistent bounds but alas they do not! This makes it hard to trust using these rows in the model as they are not self consistent. We will therefore purge them from the training set."
   ]
  },
  {
   "cell_type": "code",
   "execution_count": 619,
   "metadata": {},
   "outputs": [],
   "source": [
    "df2 = df.drop_duplicates('sequence_a')\n",
    "df2.shape\n",
    "df2.to_csv('data/20230331_pembro_SSMplus_AlphaSeq_data_unique.csv', index=False)"
   ]
  },
  {
   "attachments": {},
   "cell_type": "markdown",
   "metadata": {},
   "source": [
    "# *Now Let us look at the distribution of target affinity values (Kd):*"
   ]
  },
  {
   "cell_type": "code",
   "execution_count": 620,
   "metadata": {},
   "outputs": [
    {
     "data": {
      "text/plain": [
       "array([[<AxesSubplot:title={'center':'Kd'}>]], dtype=object)"
      ]
     },
     "execution_count": 620,
     "metadata": {},
     "output_type": "execute_result"
    },
    {
     "data": {
      "image/png": "[encoded data removed]",
      "text/plain": [
       "<Figure size 640x480 with 1 Axes>"
      ]
     },
     "metadata": {},
     "output_type": "display_data"
    }
   ],
   "source": [
    "df.hist(column='Kd', bins=100)"
   ]
  },
  {
   "attachments": {},
   "cell_type": "markdown",
   "metadata": {},
   "source": [
    "The response variable (affinity Kd) displays a bimodal distribution, suggesting there are different populations in the data. This is a common issue with biological data arising from differences in species, sex, morphological, genetic, ecological, behavioural, etc.\n",
    "\n",
    "It is true that regression does not make an assumption about the distribution of the dependent variable (it assumes Gaussianity about the residual errors). However, just because a model does not violate assumptions does not mean it is a good model. The usual regression models are models of the mean. Often, with a bimodal or multimodal response, the mean is not interesting. Often you would not use it as a measure of location -- in fact, there might not be a single good measure of location. So, if you aren't interested in the mean, why model it?\n",
    "\n",
    "One way around this is quantile regression. Here we propose to regress on the quantiles that are peaks of your combined data."
   ]
  },
  {
   "attachments": {},
   "cell_type": "markdown",
   "metadata": {},
   "source": [
    "# *Custom Tokenizer with Torch Embedding Layer:*\n",
    "my M1 Pro chip (arm64) is not supported by the pretrained BertTokenizer module :( I will make a custom protein tokenizer here for converting each letter in the sequence to a unique integer for eventual embedding with torch."
   ]
  },
  {
   "cell_type": "code",
   "execution_count": 533,
   "metadata": {},
   "outputs": [],
   "source": [
    "MAX_PROT_LEN = 252\n",
    "tok_emb = nn.Embedding(MAX_PROT_LEN, 1)"
   ]
  },
  {
   "cell_type": "code",
   "execution_count": 534,
   "metadata": {},
   "outputs": [],
   "source": [
    "# AA_vocab and pos_vocab were used to train protein sequence activity oracle\n",
    "AA_map = {'<PAD>': 0, 'A': 1, 'C': 2, 'D': 3, 'E': 4,\n",
    "            'F': 5, 'G': 6, 'H': 7, 'I': 8, 'K': 9, 'L': 10,\n",
    "            'M': 11,'N': 12, 'P': 13, 'Q': 14, 'R': 15,\n",
    "            'S': 16, 'T': 17, 'V': 18, 'W': 19, 'Y': 20}\n",
    "\n",
    "MAX_PROT_LEN = 252\n",
    "VOCAB_SIZE = len(AA_map)\n",
    "#tok_emb = nn.Embedding(VOCAB_SIZE, 1)\n",
    "\n",
    "def get_protein_encoding(seq):\n",
    "    encoding = [0]*MAX_PROT_LEN\n",
    "    try:\n",
    "        if len(seq) > MAX_PROT_LEN:\n",
    "            seq = seq[:MAX_PROT_LEN]\n",
    "        for i, aa in enumerate(seq):\n",
    "            try:\n",
    "                encoding[i] = AA_map[aa] \n",
    "            except Exception as e:\n",
    "                encoding[i] = 0\n",
    "    except Exception as e:\n",
    "        pass\n",
    "    return encoding\n",
    "\n",
    "def embedding(seq):\n",
    "    return tok_emb(torch.tensor(seq,dtype=torch.long)) \n",
    "\n",
    "def embedding2(seq):\n",
    "    return tok_emb(torch.tensor(seq,dtype=torch.long)).detach().numpy() \n"
   ]
  },
  {
   "attachments": {},
   "cell_type": "markdown",
   "metadata": {},
   "source": [
    "We also need to normalize the target affinity values to put them on the same scale"
   ]
  },
  {
   "cell_type": "code",
   "execution_count": null,
   "metadata": {},
   "outputs": [],
   "source": [
    "# scale target Kd column\n",
    "from sklearn.preprocessing import MinMaxScaler\n",
    "scaler = MinMaxScaler()\n",
    "df2[['Kd']] = scaler.fit_transform(df2[['Kd']])"
   ]
  },
  {
   "attachments": {},
   "cell_type": "markdown",
   "metadata": {},
   "source": [
    "# *Save Processed DataFrame for Use in Regression Model Development Notebook:s*"
   ]
  },
  {
   "cell_type": "code",
   "execution_count": 537,
   "metadata": {},
   "outputs": [
    {
     "data": {
      "text/html": [
       "<div>\n",
       "<style scoped>\n",
       "    .dataframe tbody tr th:only-of-type {\n",
       "        vertical-align: middle;\n",
       "    }\n",
       "\n",
       "    .dataframe tbody tr th {\n",
       "        vertical-align: top;\n",
       "    }\n",
       "\n",
       "    .dataframe thead th {\n",
       "        text-align: right;\n",
       "    }\n",
       "</style>\n",
       "<table border=\"1\" class=\"dataframe\">\n",
       "  <thead>\n",
       "    <tr style=\"text-align: right;\">\n",
       "      <th></th>\n",
       "      <th>sequence_a</th>\n",
       "      <th>Kd</th>\n",
       "      <th>Kd_lower_bound</th>\n",
       "      <th>Kd_upper_bound</th>\n",
       "      <th>embedding</th>\n",
       "    </tr>\n",
       "  </thead>\n",
       "  <tbody>\n",
       "    <tr>\n",
       "      <th>0</th>\n",
       "      <td>MASQVQLVQSGVEVKKPGASVKVSCKASGYTFTNYYMYWVRQAPGQ...</td>\n",
       "      <td>1.241963</td>\n",
       "      <td>1.191959</td>\n",
       "      <td>1.291968</td>\n",
       "      <td>[11, 1, 16, 14, 18, 14, 10, 18, 14, 16, 6, 18,...</td>\n",
       "    </tr>\n",
       "    <tr>\n",
       "      <th>50</th>\n",
       "      <td>MASQVQLVQSGVEVKKPGASVKVSCKASGYTFNYYMYWVRQAPGQG...</td>\n",
       "      <td>3.751155</td>\n",
       "      <td>3.115660</td>\n",
       "      <td>4.386650</td>\n",
       "      <td>[11, 1, 16, 14, 18, 14, 10, 18, 14, 16, 6, 18,...</td>\n",
       "    </tr>\n",
       "    <tr>\n",
       "      <th>51</th>\n",
       "      <td>MASQVQLVQSGVEVKKPGASVKVSCKASGYTFYYMYWVRQAPGQGL...</td>\n",
       "      <td>2.906238</td>\n",
       "      <td>2.620341</td>\n",
       "      <td>3.192135</td>\n",
       "      <td>[11, 1, 16, 14, 18, 14, 10, 18, 14, 16, 6, 18,...</td>\n",
       "    </tr>\n",
       "    <tr>\n",
       "      <th>52</th>\n",
       "      <td>MASQVQLVQSGVEVKKPGASVKVSCKASGYTFTNYYWVRQAPGQGL...</td>\n",
       "      <td>3.230485</td>\n",
       "      <td>2.770773</td>\n",
       "      <td>3.690198</td>\n",
       "      <td>[11, 1, 16, 14, 18, 14, 10, 18, 14, 16, 6, 18,...</td>\n",
       "    </tr>\n",
       "    <tr>\n",
       "      <th>53</th>\n",
       "      <td>MASQVQLVQSGVEVKKPGASVKVSCKASGYTFTNYYMYWVRQAPGQ...</td>\n",
       "      <td>3.045252</td>\n",
       "      <td>2.685666</td>\n",
       "      <td>3.404839</td>\n",
       "      <td>[11, 1, 16, 14, 18, 14, 10, 18, 14, 16, 6, 18,...</td>\n",
       "    </tr>\n",
       "  </tbody>\n",
       "</table>\n",
       "</div>"
      ],
      "text/plain": [
       "                                           sequence_a        Kd  \\\n",
       "0   MASQVQLVQSGVEVKKPGASVKVSCKASGYTFTNYYMYWVRQAPGQ...  1.241963   \n",
       "50  MASQVQLVQSGVEVKKPGASVKVSCKASGYTFNYYMYWVRQAPGQG...  3.751155   \n",
       "51  MASQVQLVQSGVEVKKPGASVKVSCKASGYTFYYMYWVRQAPGQGL...  2.906238   \n",
       "52  MASQVQLVQSGVEVKKPGASVKVSCKASGYTFTNYYWVRQAPGQGL...  3.230485   \n",
       "53  MASQVQLVQSGVEVKKPGASVKVSCKASGYTFTNYYMYWVRQAPGQ...  3.045252   \n",
       "\n",
       "    Kd_lower_bound  Kd_upper_bound  \\\n",
       "0         1.191959        1.291968   \n",
       "50        3.115660        4.386650   \n",
       "51        2.620341        3.192135   \n",
       "52        2.770773        3.690198   \n",
       "53        2.685666        3.404839   \n",
       "\n",
       "                                            embedding  \n",
       "0   [11, 1, 16, 14, 18, 14, 10, 18, 14, 16, 6, 18,...  \n",
       "50  [11, 1, 16, 14, 18, 14, 10, 18, 14, 16, 6, 18,...  \n",
       "51  [11, 1, 16, 14, 18, 14, 10, 18, 14, 16, 6, 18,...  \n",
       "52  [11, 1, 16, 14, 18, 14, 10, 18, 14, 16, 6, 18,...  \n",
       "53  [11, 1, 16, 14, 18, 14, 10, 18, 14, 16, 6, 18,...  "
      ]
     },
     "execution_count": 537,
     "metadata": {},
     "output_type": "execute_result"
    }
   ],
   "source": [
    "df3 = df2.copy()\n",
    "#df3['embedding'] = df3['sequence_a'].apply(lambda x: embedding2(get_protein_encoding(x)).flatten())\n",
    "df3['embedding'] = df3['sequence_a'].apply(lambda x: get_protein_encoding(x))\n",
    "df3.to_csv('data/20230331_pembro_SSMplus_AlphaSeq_data_unique_embedding.csv', index=False)\n",
    "df3.head(5)"
   ]
  }
 ],
 "metadata": {
  "kernelspec": {
   "display_name": "Python 3",
   "language": "python",
   "name": "python3"
  },
  "language_info": {
   "codemirror_mode": {
    "name": "ipython",
    "version": 3
   },
   "file_extension": ".py",
   "mimetype": "text/x-python",
   "name": "python",
   "nbconvert_exporter": "python",
   "pygments_lexer": "ipython3",
   "version": "3.9.12"
  },
  "orig_nbformat": 4
 },
 "nbformat": 4,
 "nbformat_minor": 2
}
