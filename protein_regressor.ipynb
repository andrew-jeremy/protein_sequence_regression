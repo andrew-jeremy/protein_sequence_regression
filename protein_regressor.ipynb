{
 "cells": [
  {
   "attachments": {},
   "cell_type": "markdown",
   "metadata": {},
   "source": [
    "# Regression Model to Predict Affinity from Protein Sequences using AlphaSeq Dataset\n",
    "Andrew Kiruluta, 04/02/2023\n"
   ]
  },
  {
   "cell_type": "code",
   "execution_count": 630,
   "metadata": {},
   "outputs": [
    {
     "data": {
      "text/plain": [
       "<torch._C.Generator at 0x7f9c49310930>"
      ]
     },
     "execution_count": 630,
     "metadata": {},
     "output_type": "execute_result"
    }
   ],
   "source": [
    "import numpy as np\n",
    "import matplotlib.pyplot as plt\n",
    "import pandas as pd\n",
    "import ast\n",
    "import torch\n",
    "import torch.nn as nn\n",
    "from torch.autograd import Variable\n",
    "from torch.utils.data import Dataset, DataLoader\n",
    "torch.manual_seed(5)"
   ]
  },
  {
   "cell_type": "code",
   "execution_count": 631,
   "metadata": {},
   "outputs": [
    {
     "data": {
      "text/html": [
       "<div>\n",
       "<style scoped>\n",
       "    .dataframe tbody tr th:only-of-type {\n",
       "        vertical-align: middle;\n",
       "    }\n",
       "\n",
       "    .dataframe tbody tr th {\n",
       "        vertical-align: top;\n",
       "    }\n",
       "\n",
       "    .dataframe thead th {\n",
       "        text-align: right;\n",
       "    }\n",
       "</style>\n",
       "<table border=\"1\" class=\"dataframe\">\n",
       "  <thead>\n",
       "    <tr style=\"text-align: right;\">\n",
       "      <th></th>\n",
       "      <th>sequence_a</th>\n",
       "      <th>Kd</th>\n",
       "      <th>Kd_lower_bound</th>\n",
       "      <th>Kd_upper_bound</th>\n",
       "    </tr>\n",
       "  </thead>\n",
       "  <tbody>\n",
       "    <tr>\n",
       "      <th>0</th>\n",
       "      <td>MASQVQLVQSGVEVKKPGASVKVSCKASGYTFTNYYMYWVRQAPGQ...</td>\n",
       "      <td>1.241963</td>\n",
       "      <td>1.191959</td>\n",
       "      <td>1.291968</td>\n",
       "    </tr>\n",
       "    <tr>\n",
       "      <th>1</th>\n",
       "      <td>MASQVQLVQSGVEVKKPGASVKVSCKASGYTFTNYYMYWVRQAPGQ...</td>\n",
       "      <td>1.379355</td>\n",
       "      <td>1.318349</td>\n",
       "      <td>1.440361</td>\n",
       "    </tr>\n",
       "    <tr>\n",
       "      <th>2</th>\n",
       "      <td>MASQVQLVQSGVEVKKPGASVKVSCKASGYTFTNYYMYWVRQAPGQ...</td>\n",
       "      <td>1.152859</td>\n",
       "      <td>1.120984</td>\n",
       "      <td>1.184735</td>\n",
       "    </tr>\n",
       "    <tr>\n",
       "      <th>3</th>\n",
       "      <td>MASQVQLVQSGVEVKKPGASVKVSCKASGYTFTNYYMYWVRQAPGQ...</td>\n",
       "      <td>1.123487</td>\n",
       "      <td>1.082745</td>\n",
       "      <td>1.164230</td>\n",
       "    </tr>\n",
       "    <tr>\n",
       "      <th>4</th>\n",
       "      <td>MASQVQLVQSGVEVKKPGASVKVSCKASGYTFTNYYMYWVRQAPGQ...</td>\n",
       "      <td>1.161713</td>\n",
       "      <td>1.128016</td>\n",
       "      <td>1.195410</td>\n",
       "    </tr>\n",
       "  </tbody>\n",
       "</table>\n",
       "</div>"
      ],
      "text/plain": [
       "                                          sequence_a        Kd  \\\n",
       "0  MASQVQLVQSGVEVKKPGASVKVSCKASGYTFTNYYMYWVRQAPGQ...  1.241963   \n",
       "1  MASQVQLVQSGVEVKKPGASVKVSCKASGYTFTNYYMYWVRQAPGQ...  1.379355   \n",
       "2  MASQVQLVQSGVEVKKPGASVKVSCKASGYTFTNYYMYWVRQAPGQ...  1.152859   \n",
       "3  MASQVQLVQSGVEVKKPGASVKVSCKASGYTFTNYYMYWVRQAPGQ...  1.123487   \n",
       "4  MASQVQLVQSGVEVKKPGASVKVSCKASGYTFTNYYMYWVRQAPGQ...  1.161713   \n",
       "\n",
       "   Kd_lower_bound  Kd_upper_bound  \n",
       "0        1.191959        1.291968  \n",
       "1        1.318349        1.440361  \n",
       "2        1.120984        1.184735  \n",
       "3        1.082745        1.164230  \n",
       "4        1.128016        1.195410  "
      ]
     },
     "execution_count": 631,
     "metadata": {},
     "output_type": "execute_result"
    }
   ],
   "source": [
    "fields = [\"sequence_a\",\"Kd\",\"Kd_lower_bound\",\"Kd_upper_bound\"]\n",
    "df= pd.read_csv('data/20230331_pembro_SSMplus_AlphaSeq_data.csv', usecols=fields)\n",
    "df.head(5)"
   ]
  },
  {
   "cell_type": "code",
   "execution_count": 608,
   "metadata": {},
   "outputs": [
    {
     "data": {
      "text/html": [
       "<div>\n",
       "<style scoped>\n",
       "    .dataframe tbody tr th:only-of-type {\n",
       "        vertical-align: middle;\n",
       "    }\n",
       "\n",
       "    .dataframe tbody tr th {\n",
       "        vertical-align: top;\n",
       "    }\n",
       "\n",
       "    .dataframe thead th {\n",
       "        text-align: right;\n",
       "    }\n",
       "</style>\n",
       "<table border=\"1\" class=\"dataframe\">\n",
       "  <thead>\n",
       "    <tr style=\"text-align: right;\">\n",
       "      <th></th>\n",
       "      <th>Kd</th>\n",
       "      <th>Kd_lower_bound</th>\n",
       "      <th>Kd_upper_bound</th>\n",
       "    </tr>\n",
       "  </thead>\n",
       "  <tbody>\n",
       "    <tr>\n",
       "      <th>count</th>\n",
       "      <td>29358.000000</td>\n",
       "      <td>30049.000000</td>\n",
       "      <td>29358.000000</td>\n",
       "    </tr>\n",
       "    <tr>\n",
       "      <th>mean</th>\n",
       "      <td>2.870087</td>\n",
       "      <td>2.512373</td>\n",
       "      <td>3.244432</td>\n",
       "    </tr>\n",
       "    <tr>\n",
       "      <th>std</th>\n",
       "      <td>0.802777</td>\n",
       "      <td>0.611098</td>\n",
       "      <td>1.018285</td>\n",
       "    </tr>\n",
       "    <tr>\n",
       "      <th>min</th>\n",
       "      <td>0.109426</td>\n",
       "      <td>0.088698</td>\n",
       "      <td>0.130155</td>\n",
       "    </tr>\n",
       "    <tr>\n",
       "      <th>25%</th>\n",
       "      <td>2.586133</td>\n",
       "      <td>2.372563</td>\n",
       "      <td>2.794151</td>\n",
       "    </tr>\n",
       "    <tr>\n",
       "      <th>50%</th>\n",
       "      <td>3.032297</td>\n",
       "      <td>2.666249</td>\n",
       "      <td>3.393826</td>\n",
       "    </tr>\n",
       "    <tr>\n",
       "      <th>75%</th>\n",
       "      <td>3.386192</td>\n",
       "      <td>2.888457</td>\n",
       "      <td>3.891682</td>\n",
       "    </tr>\n",
       "    <tr>\n",
       "      <th>max</th>\n",
       "      <td>4.912977</td>\n",
       "      <td>3.965893</td>\n",
       "      <td>5.934850</td>\n",
       "    </tr>\n",
       "  </tbody>\n",
       "</table>\n",
       "</div>"
      ],
      "text/plain": [
       "                 Kd  Kd_lower_bound  Kd_upper_bound\n",
       "count  29358.000000    30049.000000    29358.000000\n",
       "mean       2.870087        2.512373        3.244432\n",
       "std        0.802777        0.611098        1.018285\n",
       "min        0.109426        0.088698        0.130155\n",
       "25%        2.586133        2.372563        2.794151\n",
       "50%        3.032297        2.666249        3.393826\n",
       "75%        3.386192        2.888457        3.891682\n",
       "max        4.912977        3.965893        5.934850"
      ]
     },
     "execution_count": 608,
     "metadata": {},
     "output_type": "execute_result"
    }
   ],
   "source": [
    "# statics of the affinity values\n",
    "df.describe()"
   ]
  },
  {
   "attachments": {},
   "cell_type": "markdown",
   "metadata": {},
   "source": [
    "* We will keep the lower and upper bounds of affinities for comparison to inference spread within these limits.\n",
    "* The affinity column which is our target has no infinities (we will check for nulls later) but the range between min/max is significant. We need to place the target on the same scale for the regression task."
   ]
  },
  {
   "cell_type": "code",
   "execution_count": 609,
   "metadata": {},
   "outputs": [
    {
     "data": {
      "text/plain": [
       "sequence_a          0\n",
       "Kd                691\n",
       "Kd_lower_bound      0\n",
       "Kd_upper_bound    691\n",
       "dtype: int64"
      ]
     },
     "execution_count": 609,
     "metadata": {},
     "output_type": "execute_result"
    }
   ],
   "source": [
    "# look for missing values\n",
    "df.isnull().sum()"
   ]
  },
  {
   "attachments": {},
   "cell_type": "markdown",
   "metadata": {},
   "source": [
    "691 protein sequences have NULL values. Without domain knowledge or background on the data, it makes sense to purge rows where Kd values are missing"
   ]
  },
  {
   "cell_type": "code",
   "execution_count": 610,
   "metadata": {},
   "outputs": [],
   "source": [
    "df = df[df['Kd'].notna()]  # take only rows where Kd is not NaN, purge NaNs"
   ]
  },
  {
   "attachments": {},
   "cell_type": "markdown",
   "metadata": {},
   "source": [
    "# Analyzing Protein Sequence Statistics:\n",
    "Protein sequence statistics visualizations are simple but very insightful: \n",
    "They include:\n",
    "\n",
    "sequence frequency analysis,\n",
    "sequence length analysis,\n",
    "average sequence length analysis,\n",
    "These really help explore the fundamental characteristics of the protein sequence data.\n",
    "\n",
    "To do so, we will be mostly be using histograms (continuous data) and bar charts (categorical data).\n",
    "\n",
    "First, I’ll take a look at the number of characters present in each sentence. This can give us a rough idea about the news headline length."
   ]
  },
  {
   "cell_type": "code",
   "execution_count": 611,
   "metadata": {},
   "outputs": [
    {
     "data": {
      "text/plain": [
       "<AxesSubplot:>"
      ]
     },
     "execution_count": 611,
     "metadata": {},
     "output_type": "execute_result"
    },
    {
     "data": {
      "image/png": "[encoded data removed]",
      "text/plain": [
       "<Figure size 640x480 with 1 Axes>"
      ]
     },
     "metadata": {},
     "output_type": "display_data"
    }
   ],
   "source": [
    "df['sequence_a'].str.len().hist()"
   ]
  },
  {
   "cell_type": "code",
   "execution_count": 612,
   "metadata": {},
   "outputs": [
    {
     "data": {
      "text/plain": [
       "count    29358.0\n",
       "mean       252.0\n",
       "std          0.0\n",
       "min        252.0\n",
       "25%        252.0\n",
       "50%        252.0\n",
       "75%        252.0\n",
       "max        252.0\n",
       "Name: sequence_a, dtype: float64"
      ]
     },
     "execution_count": 612,
     "metadata": {},
     "output_type": "execute_result"
    }
   ],
   "source": [
    "df['sequence_a'].str.len().describe()"
   ]
  },
  {
   "attachments": {},
   "cell_type": "markdown",
   "metadata": {},
   "source": [
    "All the protein sequences are of the same length. "
   ]
  },
  {
   "cell_type": "code",
   "execution_count": 615,
   "metadata": {},
   "outputs": [
    {
     "data": {
      "text/plain": [
       "29199"
      ]
     },
     "execution_count": 615,
     "metadata": {},
     "output_type": "execute_result"
    }
   ],
   "source": [
    "df['sequence_a'].nunique()"
   ]
  },
  {
   "cell_type": "code",
   "execution_count": 616,
   "metadata": {},
   "outputs": [
    {
     "name": "stdout",
     "output_type": "stream",
     "text": [
      "number of repeated protein sequences in dataset:  159\n"
     ]
    }
   ],
   "source": [
    "print(\"number of repeated protein sequences in dataset: \", df.shape[0] - df['sequence_a'].nunique())"
   ]
  },
  {
   "cell_type": "code",
   "execution_count": 617,
   "metadata": {},
   "outputs": [
    {
     "data": {
      "text/html": [
       "<div>\n",
       "<style scoped>\n",
       "    .dataframe tbody tr th:only-of-type {\n",
       "        vertical-align: middle;\n",
       "    }\n",
       "\n",
       "    .dataframe tbody tr th {\n",
       "        vertical-align: top;\n",
       "    }\n",
       "\n",
       "    .dataframe thead th {\n",
       "        text-align: right;\n",
       "    }\n",
       "</style>\n",
       "<table border=\"1\" class=\"dataframe\">\n",
       "  <thead>\n",
       "    <tr style=\"text-align: right;\">\n",
       "      <th></th>\n",
       "      <th>sequence_a</th>\n",
       "      <th>Kd</th>\n",
       "      <th>Kd_lower_bound</th>\n",
       "      <th>Kd_upper_bound</th>\n",
       "    </tr>\n",
       "  </thead>\n",
       "  <tbody>\n",
       "    <tr>\n",
       "      <th>1</th>\n",
       "      <td>MASQVQLVQSGVEVKKPGASVKVSCKASGYTFTNYYMYWVRQAPGQ...</td>\n",
       "      <td>1.379355</td>\n",
       "      <td>1.318349</td>\n",
       "      <td>1.440361</td>\n",
       "    </tr>\n",
       "    <tr>\n",
       "      <th>2</th>\n",
       "      <td>MASQVQLVQSGVEVKKPGASVKVSCKASGYTFTNYYMYWVRQAPGQ...</td>\n",
       "      <td>1.152859</td>\n",
       "      <td>1.120984</td>\n",
       "      <td>1.184735</td>\n",
       "    </tr>\n",
       "    <tr>\n",
       "      <th>3</th>\n",
       "      <td>MASQVQLVQSGVEVKKPGASVKVSCKASGYTFTNYYMYWVRQAPGQ...</td>\n",
       "      <td>1.123487</td>\n",
       "      <td>1.082745</td>\n",
       "      <td>1.164230</td>\n",
       "    </tr>\n",
       "    <tr>\n",
       "      <th>4</th>\n",
       "      <td>MASQVQLVQSGVEVKKPGASVKVSCKASGYTFTNYYMYWVRQAPGQ...</td>\n",
       "      <td>1.161713</td>\n",
       "      <td>1.128016</td>\n",
       "      <td>1.195410</td>\n",
       "    </tr>\n",
       "    <tr>\n",
       "      <th>5</th>\n",
       "      <td>MASQVQLVQSGVEVKKPGASVKVSCKASGYTFTNYYMYWVRQAPGQ...</td>\n",
       "      <td>1.225249</td>\n",
       "      <td>1.183534</td>\n",
       "      <td>1.266964</td>\n",
       "    </tr>\n",
       "    <tr>\n",
       "      <th>...</th>\n",
       "      <td>...</td>\n",
       "      <td>...</td>\n",
       "      <td>...</td>\n",
       "      <td>...</td>\n",
       "    </tr>\n",
       "    <tr>\n",
       "      <th>29093</th>\n",
       "      <td>MASQVQLVQSGVEVKKPGASVKVSCKASGYTFTNYYMYWVRQAPGQ...</td>\n",
       "      <td>2.920335</td>\n",
       "      <td>2.664129</td>\n",
       "      <td>3.176542</td>\n",
       "    </tr>\n",
       "    <tr>\n",
       "      <th>29094</th>\n",
       "      <td>MASQVQLVQSGVEVKKPGASVKVSCKASGYTFTNYYMYWVRQAPGQ...</td>\n",
       "      <td>2.828503</td>\n",
       "      <td>2.450093</td>\n",
       "      <td>3.206913</td>\n",
       "    </tr>\n",
       "    <tr>\n",
       "      <th>29096</th>\n",
       "      <td>MASQVQLVQSGVEVKKPGASVKVSCKASGYTFTNYYMYWVRQAPGQ...</td>\n",
       "      <td>2.794269</td>\n",
       "      <td>2.499184</td>\n",
       "      <td>3.089354</td>\n",
       "    </tr>\n",
       "    <tr>\n",
       "      <th>29097</th>\n",
       "      <td>MASQVQLVQSGVEVKKPGASVKVSCKASGYTFTNYYMYWVRQAPGQ...</td>\n",
       "      <td>2.515867</td>\n",
       "      <td>2.321546</td>\n",
       "      <td>2.710188</td>\n",
       "    </tr>\n",
       "    <tr>\n",
       "      <th>29098</th>\n",
       "      <td>MASQVQLVQSGVEVKKPGASVKVSCKASGYTFTNYYMYWVRQAPGQ...</td>\n",
       "      <td>2.635343</td>\n",
       "      <td>2.372587</td>\n",
       "      <td>2.898099</td>\n",
       "    </tr>\n",
       "  </tbody>\n",
       "</table>\n",
       "<p>159 rows × 4 columns</p>\n",
       "</div>"
      ],
      "text/plain": [
       "                                              sequence_a        Kd  \\\n",
       "1      MASQVQLVQSGVEVKKPGASVKVSCKASGYTFTNYYMYWVRQAPGQ...  1.379355   \n",
       "2      MASQVQLVQSGVEVKKPGASVKVSCKASGYTFTNYYMYWVRQAPGQ...  1.152859   \n",
       "3      MASQVQLVQSGVEVKKPGASVKVSCKASGYTFTNYYMYWVRQAPGQ...  1.123487   \n",
       "4      MASQVQLVQSGVEVKKPGASVKVSCKASGYTFTNYYMYWVRQAPGQ...  1.161713   \n",
       "5      MASQVQLVQSGVEVKKPGASVKVSCKASGYTFTNYYMYWVRQAPGQ...  1.225249   \n",
       "...                                                  ...       ...   \n",
       "29093  MASQVQLVQSGVEVKKPGASVKVSCKASGYTFTNYYMYWVRQAPGQ...  2.920335   \n",
       "29094  MASQVQLVQSGVEVKKPGASVKVSCKASGYTFTNYYMYWVRQAPGQ...  2.828503   \n",
       "29096  MASQVQLVQSGVEVKKPGASVKVSCKASGYTFTNYYMYWVRQAPGQ...  2.794269   \n",
       "29097  MASQVQLVQSGVEVKKPGASVKVSCKASGYTFTNYYMYWVRQAPGQ...  2.515867   \n",
       "29098  MASQVQLVQSGVEVKKPGASVKVSCKASGYTFTNYYMYWVRQAPGQ...  2.635343   \n",
       "\n",
       "       Kd_lower_bound  Kd_upper_bound  \n",
       "1            1.318349        1.440361  \n",
       "2            1.120984        1.184735  \n",
       "3            1.082745        1.164230  \n",
       "4            1.128016        1.195410  \n",
       "5            1.183534        1.266964  \n",
       "...               ...             ...  \n",
       "29093        2.664129        3.176542  \n",
       "29094        2.450093        3.206913  \n",
       "29096        2.499184        3.089354  \n",
       "29097        2.321546        2.710188  \n",
       "29098        2.372587        2.898099  \n",
       "\n",
       "[159 rows x 4 columns]"
      ]
     },
     "execution_count": 617,
     "metadata": {},
     "output_type": "execute_result"
    }
   ],
   "source": [
    "duplicate = df[df.duplicated('sequence_a')]\n",
    "duplicate"
   ]
  },
  {
   "cell_type": "code",
   "execution_count": 618,
   "metadata": {},
   "outputs": [
    {
     "data": {
      "text/plain": [
       "True"
      ]
     },
     "execution_count": 618,
     "metadata": {},
     "output_type": "execute_result"
    }
   ],
   "source": [
    "# an example of a sequence that appears twice in the dataset but with different affinity values \n",
    "# in contradictory Kd upper and lower bounds\n",
    "df['sequence_a'][0] == df['sequence_a'][1]"
   ]
  },
  {
   "attachments": {},
   "cell_type": "markdown",
   "metadata": {},
   "source": [
    "# Inconsistent Repeated Protein Sequences in the Data:\n",
    "We see that there are 166 repeated protein sequences with inconsistent affinity values and unfortunately, the upper and lower affinity bounds are also different for each respective repeated sequence pairs. I would forgive these inconsistences if the affinity values fell within consistent bounds but alas they do not! This makes it hard to trust using these rows in the model as they are not self consistent. We will therefore purge them from the training set."
   ]
  },
  {
   "cell_type": "code",
   "execution_count": 619,
   "metadata": {},
   "outputs": [],
   "source": [
    "df2 = df.drop_duplicates('sequence_a')\n",
    "df2.shape\n",
    "df2.to_csv('data/20230331_pembro_SSMplus_AlphaSeq_data_unique.csv', index=False)"
   ]
  },
  {
   "cell_type": "code",
   "execution_count": 620,
   "metadata": {},
   "outputs": [
    {
     "data": {
      "text/plain": [
       "array([[<AxesSubplot:title={'center':'Kd'}>]], dtype=object)"
      ]
     },
     "execution_count": 620,
     "metadata": {},
     "output_type": "execute_result"
    },
    {
     "data": {
      "image/png": "[encoded data removed]",
      "text/plain": [
       "<Figure size 640x480 with 1 Axes>"
      ]
     },
     "metadata": {},
     "output_type": "display_data"
    }
   ],
   "source": [
    "df.hist(column='Kd', bins=100)"
   ]
  },
  {
   "attachments": {},
   "cell_type": "markdown",
   "metadata": {},
   "source": [
    "https://towardsdatascience.com/quantile-regression-from-linear-models-to-trees-to-deep-learning-af3738b527c3\n",
    "https://medium.com/the-artificial-impostor/quantile-regression-part-1-e25bdd8d9d43\n",
    "https://medium.com/the-artificial-impostor/quantile-regression-part-2-6fdbc26b2629\n",
    "https://www.kaggle.com/code/asal73/eda-quantile-regression-lightgbm-pytorch\n",
    "https://scikit-learn.org/stable/auto_examples/ensemble/plot_gradient_boosting_quantile.html\n",
    "\n",
    "\n",
    "\n",
    "\n",
    "The response variable (affinity Kd) displays a bimodal distribution, suggesting there are different populations in my data.\n",
    "\n",
    "It is true that regression does not make an assumption about the distribution of the dependent variable (it assumes things about the errors). But just because a model doesn't violate assumptions doesn't mean it is a good model. Remember that the usual regression models are models of the mean. Often, with a bimodal or multimodal response, the mean is not interesting. Often you would not use it as a measure of location -- in fact, there might not be a single good measure of location. So, if you aren't interested in the mean, why model it?\n",
    "\n",
    "One way around this is quantile regression. Here you could regress on the quantiles that are peaks of your combined data."
   ]
  },
  {
   "attachments": {},
   "cell_type": "markdown",
   "metadata": {},
   "source": [
    "# Custom Tokenizer with Torch Embedding Layer\n",
    "my M1 Pro chip (arm64) is not supported by the pretrained BertTokenizer :()"
   ]
  },
  {
   "cell_type": "code",
   "execution_count": 533,
   "metadata": {},
   "outputs": [],
   "source": [
    "MAX_PROT_LEN = 252\n",
    "tok_emb = nn.Embedding(MAX_PROT_LEN, 1)"
   ]
  },
  {
   "cell_type": "code",
   "execution_count": 534,
   "metadata": {},
   "outputs": [],
   "source": [
    "# AA_vocab and pos_vocab were used to train protein sequence activity oracle\n",
    "AA_map = {'<PAD>': 0, 'A': 1, 'C': 2, 'D': 3, 'E': 4,\n",
    "            'F': 5, 'G': 6, 'H': 7, 'I': 8, 'K': 9, 'L': 10,\n",
    "            'M': 11,'N': 12, 'P': 13, 'Q': 14, 'R': 15,\n",
    "            'S': 16, 'T': 17, 'V': 18, 'W': 19, 'Y': 20}\n",
    "\n",
    "MAX_PROT_LEN = 252\n",
    "VOCAB_SIZE = len(AA_map)\n",
    "#tok_emb = nn.Embedding(VOCAB_SIZE, 1)\n",
    "\n",
    "def get_protein_encoding(seq):\n",
    "    encoding = [0]*MAX_PROT_LEN\n",
    "    try:\n",
    "        if len(seq) > MAX_PROT_LEN:\n",
    "            seq = seq[:MAX_PROT_LEN]\n",
    "        for i, aa in enumerate(seq):\n",
    "            try:\n",
    "                encoding[i] = AA_map[aa] \n",
    "            except Exception as e:\n",
    "                encoding[i] = 0\n",
    "    except Exception as e:\n",
    "        pass\n",
    "    return encoding\n",
    "\n",
    "def embedding(seq):\n",
    "    return tok_emb(torch.tensor(seq,dtype=torch.long)) \n",
    "\n",
    "def embedding2(seq):\n",
    "    return tok_emb(torch.tensor(seq,dtype=torch.long)).detach().numpy() \n"
   ]
  },
  {
   "cell_type": "code",
   "execution_count": 535,
   "metadata": {},
   "outputs": [
    {
     "name": "stdout",
     "output_type": "stream",
     "text": [
      "tensor([[-0.7308],\n",
      "        [ 0.5189],\n",
      "        [ 2.7799],\n",
      "        [-0.5849],\n",
      "        [-0.3364],\n",
      "        [-0.5849],\n",
      "        [-1.3527],\n",
      "        [-0.3364],\n",
      "        [-0.5849],\n",
      "        [ 2.7799],\n",
      "        [-0.1307],\n",
      "        [-0.3364],\n",
      "        [ 2.0194],\n",
      "        [-0.3364],\n",
      "        [-0.0190],\n",
      "        [-0.0190],\n",
      "        [-0.4194],\n",
      "        [-0.1307],\n",
      "        [ 0.5189],\n",
      "        [ 2.7799],\n",
      "        [-0.3364],\n",
      "        [-0.0190],\n",
      "        [-0.3364],\n",
      "        [ 2.7799],\n",
      "        [-1.7119],\n",
      "        [-0.0190],\n",
      "        [ 0.5189],\n",
      "        [ 2.7799],\n",
      "        [-0.1307],\n",
      "        [-0.1297],\n",
      "        [ 1.2220],\n",
      "        [-0.2686],\n",
      "        [ 1.2220],\n",
      "        [ 0.9879],\n",
      "        [-0.1297],\n",
      "        [-0.1297],\n",
      "        [-0.7308],\n",
      "        [-0.1297],\n",
      "        [-0.9651],\n",
      "        [-0.3364],\n",
      "        [-0.7823],\n",
      "        [-0.5849],\n",
      "        [ 0.5189],\n",
      "        [-0.4194],\n",
      "        [-0.1307],\n",
      "        [-0.5849],\n",
      "        [-0.1307],\n",
      "        [-1.3527],\n",
      "        [ 2.0194],\n",
      "        [-0.9651],\n",
      "        [-0.7308],\n",
      "        [-0.1307],\n",
      "        [-0.1307],\n",
      "        [ 0.3908],\n",
      "        [ 0.9879],\n",
      "        [-0.4194],\n",
      "        [ 2.7799],\n",
      "        [ 0.9879],\n",
      "        [-0.1307],\n",
      "        [-0.1307],\n",
      "        [ 1.2220],\n",
      "        [ 0.9879],\n",
      "        [-0.2686],\n",
      "        [ 0.9879],\n",
      "        [ 2.0194],\n",
      "        [-0.0190],\n",
      "        [-0.2686],\n",
      "        [-0.0190],\n",
      "        [ 0.9879],\n",
      "        [-0.7823],\n",
      "        [-0.3364],\n",
      "        [ 1.2220],\n",
      "        [-1.3527],\n",
      "        [ 1.2220],\n",
      "        [ 1.2220],\n",
      "        [-1.7014],\n",
      "        [ 2.7799],\n",
      "        [ 2.7799],\n",
      "        [ 1.2220],\n",
      "        [ 1.2220],\n",
      "        [ 1.2220],\n",
      "        [ 0.5189],\n",
      "        [-0.1297],\n",
      "        [-0.7308],\n",
      "        [ 2.0194],\n",
      "        [-1.3527],\n",
      "        [-0.0190],\n",
      "        [ 2.7799],\n",
      "        [-1.3527],\n",
      "        [-0.5849],\n",
      "        [-0.2686],\n",
      "        [-1.7014],\n",
      "        [-1.7014],\n",
      "        [ 1.2220],\n",
      "        [ 0.5189],\n",
      "        [-0.3364],\n",
      "        [-0.1297],\n",
      "        [-0.1297],\n",
      "        [-1.7119],\n",
      "        [ 0.5189],\n",
      "        [-0.7823],\n",
      "        [-0.7823],\n",
      "        [-1.7014],\n",
      "        [-0.1297],\n",
      "        [-0.7823],\n",
      "        [-0.2686],\n",
      "        [-1.7014],\n",
      "        [-0.7308],\n",
      "        [-0.1307],\n",
      "        [-0.2686],\n",
      "        [-1.7014],\n",
      "        [-0.1297],\n",
      "        [-0.9651],\n",
      "        [-0.1307],\n",
      "        [-0.5849],\n",
      "        [-0.1307],\n",
      "        [ 1.2220],\n",
      "        [ 1.2220],\n",
      "        [-0.3364],\n",
      "        [ 1.2220],\n",
      "        [-0.3364],\n",
      "        [ 2.7799],\n",
      "        [ 2.7799],\n",
      "        [-0.1307],\n",
      "        [-0.1307],\n",
      "        [-0.1307],\n",
      "        [-0.1307],\n",
      "        [ 2.7799],\n",
      "        [-0.1307],\n",
      "        [-0.1307],\n",
      "        [-0.1307],\n",
      "        [-0.1307],\n",
      "        [ 2.7799],\n",
      "        [-0.1307],\n",
      "        [-0.1307],\n",
      "        [-0.1307],\n",
      "        [-0.1307],\n",
      "        [ 2.7799],\n",
      "        [ 2.0194],\n",
      "        [ 0.3908],\n",
      "        [-0.3364],\n",
      "        [-1.3527],\n",
      "        [ 1.2220],\n",
      "        [-0.5849],\n",
      "        [ 2.7799],\n",
      "        [-0.4194],\n",
      "        [ 0.5189],\n",
      "        [ 1.2220],\n",
      "        [-1.3527],\n",
      "        [ 2.7799],\n",
      "        [-1.3527],\n",
      "        [ 2.7799],\n",
      "        [-0.4194],\n",
      "        [-0.1307],\n",
      "        [ 2.0194],\n",
      "        [-0.7823],\n",
      "        [ 0.5189],\n",
      "        [ 1.2220],\n",
      "        [-1.3527],\n",
      "        [ 2.7799],\n",
      "        [-1.7119],\n",
      "        [-0.7823],\n",
      "        [ 0.5189],\n",
      "        [ 2.7799],\n",
      "        [-0.0190],\n",
      "        [-0.1307],\n",
      "        [-0.3364],\n",
      "        [ 2.7799],\n",
      "        [ 1.2220],\n",
      "        [ 2.7799],\n",
      "        [-0.1307],\n",
      "        [-0.1297],\n",
      "        [ 2.7799],\n",
      "        [-0.1297],\n",
      "        [-1.3527],\n",
      "        [-1.4374],\n",
      "        [-0.9651],\n",
      "        [-0.1297],\n",
      "        [-0.5849],\n",
      "        [-0.5849],\n",
      "        [-0.0190],\n",
      "        [-0.4194],\n",
      "        [-0.1307],\n",
      "        [-0.5849],\n",
      "        [ 0.5189],\n",
      "        [-0.4194],\n",
      "        [-0.7823],\n",
      "        [-1.3527],\n",
      "        [-1.3527],\n",
      "        [ 0.3908],\n",
      "        [-0.1297],\n",
      "        [-1.3527],\n",
      "        [ 0.5189],\n",
      "        [ 2.7799],\n",
      "        [-0.1297],\n",
      "        [-1.3527],\n",
      "        [ 2.0194],\n",
      "        [ 2.7799],\n",
      "        [-0.1307],\n",
      "        [-0.3364],\n",
      "        [-0.4194],\n",
      "        [ 0.5189],\n",
      "        [-0.7823],\n",
      "        [-0.2686],\n",
      "        [ 2.7799],\n",
      "        [-0.1307],\n",
      "        [ 2.7799],\n",
      "        [-0.1307],\n",
      "        [ 2.7799],\n",
      "        [-0.1307],\n",
      "        [ 1.2220],\n",
      "        [-1.7014],\n",
      "        [-0.2686],\n",
      "        [ 1.2220],\n",
      "        [-1.3527],\n",
      "        [ 1.2220],\n",
      "        [ 0.3908],\n",
      "        [ 2.7799],\n",
      "        [ 2.7799],\n",
      "        [-1.3527],\n",
      "        [ 2.0194],\n",
      "        [-0.4194],\n",
      "        [ 2.0194],\n",
      "        [-1.7014],\n",
      "        [-0.2686],\n",
      "        [ 0.5189],\n",
      "        [-0.3364],\n",
      "        [-0.1297],\n",
      "        [-0.1297],\n",
      "        [-1.7119],\n",
      "        [-0.5849],\n",
      "        [-1.4374],\n",
      "        [ 2.7799],\n",
      "        [-0.7823],\n",
      "        [-1.7014],\n",
      "        [-1.3527],\n",
      "        [-0.4194],\n",
      "        [-1.3527],\n",
      "        [ 1.2220],\n",
      "        [-0.2686],\n",
      "        [-0.1307],\n",
      "        [-0.1307],\n",
      "        [-0.1307],\n",
      "        [ 1.2220],\n",
      "        [-0.0190],\n",
      "        [-0.3364],\n",
      "        [ 2.0194],\n",
      "        [ 0.3908],\n",
      "        [-0.0190],\n",
      "        [-0.7823],\n",
      "        [-1.3527],\n",
      "        [ 2.0194]], grad_fn=<EmbeddingBackward0>)\n"
     ]
    }
   ],
   "source": [
    "seq = embedding(get_protein_encoding(df2['sequence_a'][0]))\n",
    "print(seq)"
   ]
  },
  {
   "cell_type": "code",
   "execution_count": 536,
   "metadata": {},
   "outputs": [
    {
     "data": {
      "text/html": [
       "<div>\n",
       "<style scoped>\n",
       "    .dataframe tbody tr th:only-of-type {\n",
       "        vertical-align: middle;\n",
       "    }\n",
       "\n",
       "    .dataframe tbody tr th {\n",
       "        vertical-align: top;\n",
       "    }\n",
       "\n",
       "    .dataframe thead th {\n",
       "        text-align: right;\n",
       "    }\n",
       "</style>\n",
       "<table border=\"1\" class=\"dataframe\">\n",
       "  <thead>\n",
       "    <tr style=\"text-align: right;\">\n",
       "      <th></th>\n",
       "      <th>sequence_a</th>\n",
       "      <th>Kd</th>\n",
       "      <th>Kd_lower_bound</th>\n",
       "      <th>Kd_upper_bound</th>\n",
       "    </tr>\n",
       "  </thead>\n",
       "  <tbody>\n",
       "    <tr>\n",
       "      <th>0</th>\n",
       "      <td>MASQVQLVQSGVEVKKPGASVKVSCKASGYTFTNYYMYWVRQAPGQ...</td>\n",
       "      <td>1.241963</td>\n",
       "      <td>1.191959</td>\n",
       "      <td>1.291968</td>\n",
       "    </tr>\n",
       "    <tr>\n",
       "      <th>50</th>\n",
       "      <td>MASQVQLVQSGVEVKKPGASVKVSCKASGYTFNYYMYWVRQAPGQG...</td>\n",
       "      <td>3.751155</td>\n",
       "      <td>3.115660</td>\n",
       "      <td>4.386650</td>\n",
       "    </tr>\n",
       "    <tr>\n",
       "      <th>51</th>\n",
       "      <td>MASQVQLVQSGVEVKKPGASVKVSCKASGYTFYYMYWVRQAPGQGL...</td>\n",
       "      <td>2.906238</td>\n",
       "      <td>2.620341</td>\n",
       "      <td>3.192135</td>\n",
       "    </tr>\n",
       "    <tr>\n",
       "      <th>52</th>\n",
       "      <td>MASQVQLVQSGVEVKKPGASVKVSCKASGYTFTNYYWVRQAPGQGL...</td>\n",
       "      <td>3.230485</td>\n",
       "      <td>2.770773</td>\n",
       "      <td>3.690198</td>\n",
       "    </tr>\n",
       "    <tr>\n",
       "      <th>53</th>\n",
       "      <td>MASQVQLVQSGVEVKKPGASVKVSCKASGYTFTNYYMYWVRQAPGQ...</td>\n",
       "      <td>3.045252</td>\n",
       "      <td>2.685666</td>\n",
       "      <td>3.404839</td>\n",
       "    </tr>\n",
       "  </tbody>\n",
       "</table>\n",
       "</div>"
      ],
      "text/plain": [
       "                                           sequence_a        Kd  \\\n",
       "0   MASQVQLVQSGVEVKKPGASVKVSCKASGYTFTNYYMYWVRQAPGQ...  1.241963   \n",
       "50  MASQVQLVQSGVEVKKPGASVKVSCKASGYTFNYYMYWVRQAPGQG...  3.751155   \n",
       "51  MASQVQLVQSGVEVKKPGASVKVSCKASGYTFYYMYWVRQAPGQGL...  2.906238   \n",
       "52  MASQVQLVQSGVEVKKPGASVKVSCKASGYTFTNYYWVRQAPGQGL...  3.230485   \n",
       "53  MASQVQLVQSGVEVKKPGASVKVSCKASGYTFTNYYMYWVRQAPGQ...  3.045252   \n",
       "\n",
       "    Kd_lower_bound  Kd_upper_bound  \n",
       "0         1.191959        1.291968  \n",
       "50        3.115660        4.386650  \n",
       "51        2.620341        3.192135  \n",
       "52        2.770773        3.690198  \n",
       "53        2.685666        3.404839  "
      ]
     },
     "execution_count": 536,
     "metadata": {},
     "output_type": "execute_result"
    }
   ],
   "source": [
    "df2.head(5)"
   ]
  },
  {
   "cell_type": "code",
   "execution_count": 537,
   "metadata": {},
   "outputs": [
    {
     "data": {
      "text/html": [
       "<div>\n",
       "<style scoped>\n",
       "    .dataframe tbody tr th:only-of-type {\n",
       "        vertical-align: middle;\n",
       "    }\n",
       "\n",
       "    .dataframe tbody tr th {\n",
       "        vertical-align: top;\n",
       "    }\n",
       "\n",
       "    .dataframe thead th {\n",
       "        text-align: right;\n",
       "    }\n",
       "</style>\n",
       "<table border=\"1\" class=\"dataframe\">\n",
       "  <thead>\n",
       "    <tr style=\"text-align: right;\">\n",
       "      <th></th>\n",
       "      <th>sequence_a</th>\n",
       "      <th>Kd</th>\n",
       "      <th>Kd_lower_bound</th>\n",
       "      <th>Kd_upper_bound</th>\n",
       "      <th>embedding</th>\n",
       "    </tr>\n",
       "  </thead>\n",
       "  <tbody>\n",
       "    <tr>\n",
       "      <th>0</th>\n",
       "      <td>MASQVQLVQSGVEVKKPGASVKVSCKASGYTFTNYYMYWVRQAPGQ...</td>\n",
       "      <td>1.241963</td>\n",
       "      <td>1.191959</td>\n",
       "      <td>1.291968</td>\n",
       "      <td>[11, 1, 16, 14, 18, 14, 10, 18, 14, 16, 6, 18,...</td>\n",
       "    </tr>\n",
       "    <tr>\n",
       "      <th>50</th>\n",
       "      <td>MASQVQLVQSGVEVKKPGASVKVSCKASGYTFNYYMYWVRQAPGQG...</td>\n",
       "      <td>3.751155</td>\n",
       "      <td>3.115660</td>\n",
       "      <td>4.386650</td>\n",
       "      <td>[11, 1, 16, 14, 18, 14, 10, 18, 14, 16, 6, 18,...</td>\n",
       "    </tr>\n",
       "    <tr>\n",
       "      <th>51</th>\n",
       "      <td>MASQVQLVQSGVEVKKPGASVKVSCKASGYTFYYMYWVRQAPGQGL...</td>\n",
       "      <td>2.906238</td>\n",
       "      <td>2.620341</td>\n",
       "      <td>3.192135</td>\n",
       "      <td>[11, 1, 16, 14, 18, 14, 10, 18, 14, 16, 6, 18,...</td>\n",
       "    </tr>\n",
       "    <tr>\n",
       "      <th>52</th>\n",
       "      <td>MASQVQLVQSGVEVKKPGASVKVSCKASGYTFTNYYWVRQAPGQGL...</td>\n",
       "      <td>3.230485</td>\n",
       "      <td>2.770773</td>\n",
       "      <td>3.690198</td>\n",
       "      <td>[11, 1, 16, 14, 18, 14, 10, 18, 14, 16, 6, 18,...</td>\n",
       "    </tr>\n",
       "    <tr>\n",
       "      <th>53</th>\n",
       "      <td>MASQVQLVQSGVEVKKPGASVKVSCKASGYTFTNYYMYWVRQAPGQ...</td>\n",
       "      <td>3.045252</td>\n",
       "      <td>2.685666</td>\n",
       "      <td>3.404839</td>\n",
       "      <td>[11, 1, 16, 14, 18, 14, 10, 18, 14, 16, 6, 18,...</td>\n",
       "    </tr>\n",
       "  </tbody>\n",
       "</table>\n",
       "</div>"
      ],
      "text/plain": [
       "                                           sequence_a        Kd  \\\n",
       "0   MASQVQLVQSGVEVKKPGASVKVSCKASGYTFTNYYMYWVRQAPGQ...  1.241963   \n",
       "50  MASQVQLVQSGVEVKKPGASVKVSCKASGYTFNYYMYWVRQAPGQG...  3.751155   \n",
       "51  MASQVQLVQSGVEVKKPGASVKVSCKASGYTFYYMYWVRQAPGQGL...  2.906238   \n",
       "52  MASQVQLVQSGVEVKKPGASVKVSCKASGYTFTNYYWVRQAPGQGL...  3.230485   \n",
       "53  MASQVQLVQSGVEVKKPGASVKVSCKASGYTFTNYYMYWVRQAPGQ...  3.045252   \n",
       "\n",
       "    Kd_lower_bound  Kd_upper_bound  \\\n",
       "0         1.191959        1.291968   \n",
       "50        3.115660        4.386650   \n",
       "51        2.620341        3.192135   \n",
       "52        2.770773        3.690198   \n",
       "53        2.685666        3.404839   \n",
       "\n",
       "                                            embedding  \n",
       "0   [11, 1, 16, 14, 18, 14, 10, 18, 14, 16, 6, 18,...  \n",
       "50  [11, 1, 16, 14, 18, 14, 10, 18, 14, 16, 6, 18,...  \n",
       "51  [11, 1, 16, 14, 18, 14, 10, 18, 14, 16, 6, 18,...  \n",
       "52  [11, 1, 16, 14, 18, 14, 10, 18, 14, 16, 6, 18,...  \n",
       "53  [11, 1, 16, 14, 18, 14, 10, 18, 14, 16, 6, 18,...  "
      ]
     },
     "execution_count": 537,
     "metadata": {},
     "output_type": "execute_result"
    }
   ],
   "source": [
    "df3 = df2.copy()\n",
    "#df3['embedding'] = df3['sequence_a'].apply(lambda x: embedding2(get_protein_encoding(x)).flatten())\n",
    "df3['embedding'] = df3['sequence_a'].apply(lambda x: get_protein_encoding(x))\n",
    "df3.to_csv('data/20230331_pembro_SSMplus_AlphaSeq_data_unique_embedding.csv', index=False)\n",
    "df3.head(5)"
   ]
  },
  {
   "cell_type": "code",
   "execution_count": 538,
   "metadata": {},
   "outputs": [
    {
     "data": {
      "text/plain": [
       "0        [11, 1, 16, 14, 18, 14, 10, 18, 14, 16, 6, 18,...\n",
       "50       [11, 1, 16, 14, 18, 14, 10, 18, 14, 16, 6, 18,...\n",
       "51       [11, 1, 16, 14, 18, 14, 10, 18, 14, 16, 6, 18,...\n",
       "52       [11, 1, 16, 14, 18, 14, 10, 18, 14, 16, 6, 18,...\n",
       "53       [11, 1, 16, 14, 18, 14, 10, 18, 14, 16, 6, 18,...\n",
       "                               ...                        \n",
       "30044    [11, 1, 16, 14, 18, 14, 10, 18, 14, 16, 6, 18,...\n",
       "30045    [11, 1, 16, 14, 18, 14, 10, 18, 14, 16, 6, 18,...\n",
       "30046    [11, 1, 16, 14, 18, 14, 10, 18, 14, 16, 6, 18,...\n",
       "30047    [11, 1, 16, 14, 18, 14, 10, 18, 14, 16, 6, 18,...\n",
       "30048    [11, 1, 16, 14, 18, 14, 10, 18, 14, 16, 6, 18,...\n",
       "Name: embedding, Length: 29199, dtype: object"
      ]
     },
     "execution_count": 538,
     "metadata": {},
     "output_type": "execute_result"
    }
   ],
   "source": [
    "df3['embedding']"
   ]
  },
  {
   "cell_type": "code",
   "execution_count": 415,
   "metadata": {},
   "outputs": [
    {
     "data": {
      "text/plain": [
       "(29883,)"
      ]
     },
     "execution_count": 415,
     "metadata": {},
     "output_type": "execute_result"
    }
   ],
   "source": [
    "np.array(df3['embedding']).shape"
   ]
  },
  {
   "cell_type": "code",
   "execution_count": 411,
   "metadata": {},
   "outputs": [
    {
     "data": {
      "text/html": [
       "<div>\n",
       "<style scoped>\n",
       "    .dataframe tbody tr th:only-of-type {\n",
       "        vertical-align: middle;\n",
       "    }\n",
       "\n",
       "    .dataframe tbody tr th {\n",
       "        vertical-align: top;\n",
       "    }\n",
       "\n",
       "    .dataframe thead th {\n",
       "        text-align: right;\n",
       "    }\n",
       "</style>\n",
       "<table border=\"1\" class=\"dataframe\">\n",
       "  <thead>\n",
       "    <tr style=\"text-align: right;\">\n",
       "      <th></th>\n",
       "      <th>0</th>\n",
       "    </tr>\n",
       "  </thead>\n",
       "  <tbody>\n",
       "    <tr>\n",
       "      <th>0</th>\n",
       "      <td>[-1.7766757, -0.11185568, 2.521986, -0.2655836...</td>\n",
       "    </tr>\n",
       "    <tr>\n",
       "      <th>1</th>\n",
       "      <td>[-1.7766757, -0.11185568, 2.521986, -0.2655836...</td>\n",
       "    </tr>\n",
       "    <tr>\n",
       "      <th>2</th>\n",
       "      <td>[-1.7766757, -0.11185568, 2.521986, -0.2655836...</td>\n",
       "    </tr>\n",
       "    <tr>\n",
       "      <th>3</th>\n",
       "      <td>[-1.7766757, -0.11185568, 2.521986, -0.2655836...</td>\n",
       "    </tr>\n",
       "    <tr>\n",
       "      <th>4</th>\n",
       "      <td>[-1.7766757, -0.11185568, 2.521986, -0.2655836...</td>\n",
       "    </tr>\n",
       "    <tr>\n",
       "      <th>...</th>\n",
       "      <td>...</td>\n",
       "    </tr>\n",
       "    <tr>\n",
       "      <th>29878</th>\n",
       "      <td>[-1.7766757, -0.11185568, 2.521986, -0.2655836...</td>\n",
       "    </tr>\n",
       "    <tr>\n",
       "      <th>29879</th>\n",
       "      <td>[-1.7766757, -0.11185568, 2.521986, -0.2655836...</td>\n",
       "    </tr>\n",
       "    <tr>\n",
       "      <th>29880</th>\n",
       "      <td>[-1.7766757, -0.11185568, 2.521986, -0.2655836...</td>\n",
       "    </tr>\n",
       "    <tr>\n",
       "      <th>29881</th>\n",
       "      <td>[-1.7766757, -0.11185568, 2.521986, -0.2655836...</td>\n",
       "    </tr>\n",
       "    <tr>\n",
       "      <th>29882</th>\n",
       "      <td>[-1.7766757, -0.11185568, 2.521986, -0.2655836...</td>\n",
       "    </tr>\n",
       "  </tbody>\n",
       "</table>\n",
       "<p>29883 rows × 1 columns</p>\n",
       "</div>"
      ],
      "text/plain": [
       "                                                       0\n",
       "0      [-1.7766757, -0.11185568, 2.521986, -0.2655836...\n",
       "1      [-1.7766757, -0.11185568, 2.521986, -0.2655836...\n",
       "2      [-1.7766757, -0.11185568, 2.521986, -0.2655836...\n",
       "3      [-1.7766757, -0.11185568, 2.521986, -0.2655836...\n",
       "4      [-1.7766757, -0.11185568, 2.521986, -0.2655836...\n",
       "...                                                  ...\n",
       "29878  [-1.7766757, -0.11185568, 2.521986, -0.2655836...\n",
       "29879  [-1.7766757, -0.11185568, 2.521986, -0.2655836...\n",
       "29880  [-1.7766757, -0.11185568, 2.521986, -0.2655836...\n",
       "29881  [-1.7766757, -0.11185568, 2.521986, -0.2655836...\n",
       "29882  [-1.7766757, -0.11185568, 2.521986, -0.2655836...\n",
       "\n",
       "[29883 rows x 1 columns]"
      ]
     },
     "execution_count": 411,
     "metadata": {},
     "output_type": "execute_result"
    }
   ],
   "source": [
    "pd.DataFrame(np.array(df3['embedding']))"
   ]
  },
  {
   "attachments": {},
   "cell_type": "markdown",
   "metadata": {},
   "source": [
    "# LSTM Regression Model"
   ]
  },
  {
   "cell_type": "code",
   "execution_count": 416,
   "metadata": {},
   "outputs": [],
   "source": [
    "df3 = pd.read_csv('data/20230331_pembro_SSMplus_AlphaSeq_data_unique_embedding.csv')\n",
    "df_train = df3.sample(frac=0.8,random_state=200)\n",
    "df_test = df3.drop(df_train.index)"
   ]
  },
  {
   "cell_type": "code",
   "execution_count": 417,
   "metadata": {},
   "outputs": [],
   "source": [
    "class ProteinDataset(Dataset):\n",
    " \n",
    "  def __init__(self,df,transform=embedding):\n",
    "    self.df = df\n",
    "    self.transform = transform\n",
    "  def __len__(self):\n",
    "    return len(self.df)\n",
    "   \n",
    "  def __getitem__(self,idx):\n",
    "      self.x = self.df.loc[idx,\"embedding\"]\n",
    "      self.y = self.df.loc[idx,\"Kd\"]\n",
    "      self.x = torch.tensor(ast.literal_eval(self.x),dtype=torch.long)\n",
    "      self.x = self.transform(self.x).flatten()\n",
    "      self.y = torch.tensor(self.y,dtype=torch.float32)\n",
    "      return self.x,self.y"
   ]
  },
  {
   "cell_type": "code",
   "execution_count": 418,
   "metadata": {},
   "outputs": [
    {
     "data": {
      "text/html": [
       "<div>\n",
       "<style scoped>\n",
       "    .dataframe tbody tr th:only-of-type {\n",
       "        vertical-align: middle;\n",
       "    }\n",
       "\n",
       "    .dataframe tbody tr th {\n",
       "        vertical-align: top;\n",
       "    }\n",
       "\n",
       "    .dataframe thead th {\n",
       "        text-align: right;\n",
       "    }\n",
       "</style>\n",
       "<table border=\"1\" class=\"dataframe\">\n",
       "  <thead>\n",
       "    <tr style=\"text-align: right;\">\n",
       "      <th></th>\n",
       "      <th>sequence_a</th>\n",
       "      <th>Kd</th>\n",
       "      <th>Kd_lower_bound</th>\n",
       "      <th>Kd_upper_bound</th>\n",
       "      <th>embedding</th>\n",
       "    </tr>\n",
       "  </thead>\n",
       "  <tbody>\n",
       "    <tr>\n",
       "      <th>232</th>\n",
       "      <td>MASQVQLVQSGVEVKKPGASVKVSCKASGYTFTNYYMYWVRQAPGQ...</td>\n",
       "      <td>3.719982</td>\n",
       "      <td>3.218770</td>\n",
       "      <td>4.221194</td>\n",
       "      <td>[11, 1, 16, 14, 18, 14, 10, 18, 14, 16, 6, 18,...</td>\n",
       "    </tr>\n",
       "    <tr>\n",
       "      <th>12859</th>\n",
       "      <td>MASQVQLVQSGVEVKKPGASVKVSCKASGYTFTNYYMYWVRQAPGQ...</td>\n",
       "      <td>3.585643</td>\n",
       "      <td>2.950148</td>\n",
       "      <td>4.221138</td>\n",
       "      <td>[11, 1, 16, 14, 18, 14, 10, 18, 14, 16, 6, 18,...</td>\n",
       "    </tr>\n",
       "    <tr>\n",
       "      <th>5174</th>\n",
       "      <td>MASQVQLVQSGVEVKKPGASVKVSCKASGYTFTNYYMYWVRQAPGQ...</td>\n",
       "      <td>0.802008</td>\n",
       "      <td>0.767586</td>\n",
       "      <td>0.836431</td>\n",
       "      <td>[11, 1, 16, 14, 18, 14, 10, 18, 14, 16, 6, 18,...</td>\n",
       "    </tr>\n",
       "    <tr>\n",
       "      <th>5287</th>\n",
       "      <td>MASQVQLVQSGVEVKKPGASVKVSCKASGYTFTWYYMYWVRHAPGQ...</td>\n",
       "      <td>3.874563</td>\n",
       "      <td>3.239068</td>\n",
       "      <td>4.510058</td>\n",
       "      <td>[11, 1, 16, 14, 18, 14, 10, 18, 14, 16, 6, 18,...</td>\n",
       "    </tr>\n",
       "    <tr>\n",
       "      <th>21050</th>\n",
       "      <td>MASQVQLVQSGVEVKKPGASVKVSCKASGYTFTNYYMYWVRQAPGQ...</td>\n",
       "      <td>3.575605</td>\n",
       "      <td>3.019101</td>\n",
       "      <td>4.132109</td>\n",
       "      <td>[11, 1, 16, 14, 18, 14, 10, 18, 14, 16, 6, 18,...</td>\n",
       "    </tr>\n",
       "  </tbody>\n",
       "</table>\n",
       "</div>"
      ],
      "text/plain": [
       "                                              sequence_a        Kd  \\\n",
       "232    MASQVQLVQSGVEVKKPGASVKVSCKASGYTFTNYYMYWVRQAPGQ...  3.719982   \n",
       "12859  MASQVQLVQSGVEVKKPGASVKVSCKASGYTFTNYYMYWVRQAPGQ...  3.585643   \n",
       "5174   MASQVQLVQSGVEVKKPGASVKVSCKASGYTFTNYYMYWVRQAPGQ...  0.802008   \n",
       "5287   MASQVQLVQSGVEVKKPGASVKVSCKASGYTFTWYYMYWVRHAPGQ...  3.874563   \n",
       "21050  MASQVQLVQSGVEVKKPGASVKVSCKASGYTFTNYYMYWVRQAPGQ...  3.575605   \n",
       "\n",
       "       Kd_lower_bound  Kd_upper_bound  \\\n",
       "232          3.218770        4.221194   \n",
       "12859        2.950148        4.221138   \n",
       "5174         0.767586        0.836431   \n",
       "5287         3.239068        4.510058   \n",
       "21050        3.019101        4.132109   \n",
       "\n",
       "                                               embedding  \n",
       "232    [11, 1, 16, 14, 18, 14, 10, 18, 14, 16, 6, 18,...  \n",
       "12859  [11, 1, 16, 14, 18, 14, 10, 18, 14, 16, 6, 18,...  \n",
       "5174   [11, 1, 16, 14, 18, 14, 10, 18, 14, 16, 6, 18,...  \n",
       "5287   [11, 1, 16, 14, 18, 14, 10, 18, 14, 16, 6, 18,...  \n",
       "21050  [11, 1, 16, 14, 18, 14, 10, 18, 14, 16, 6, 18,...  "
      ]
     },
     "execution_count": 418,
     "metadata": {},
     "output_type": "execute_result"
    }
   ],
   "source": [
    "df_train.head(5)"
   ]
  },
  {
   "cell_type": "code",
   "execution_count": 419,
   "metadata": {},
   "outputs": [
    {
     "name": "stdout",
     "output_type": "stream",
     "text": [
      "tensor([-1.7767, -0.1119,  2.5220, -0.2656, -0.2601, -0.2656,  0.0541, -0.2601,\n",
      "        -0.2656,  2.5220,  1.3211, -0.2601, -0.7494, -0.2601, -1.8593, -1.8593,\n",
      "         0.5810,  1.3211, -0.1119,  2.5220, -0.2601, -1.8593, -0.2601,  2.5220,\n",
      "        -0.2102, -1.8593, -0.1119,  2.5220,  1.3211,  0.4993, -0.7675,  0.8838,\n",
      "        -0.7675, -0.4437,  0.4993,  0.4993, -1.7767,  0.4993, -0.4379, -0.2601,\n",
      "         0.4147, -0.2656, -0.1119,  0.5810,  1.3211, -0.2656,  1.3211,  0.0541,\n",
      "        -0.7494, -0.4379, -1.7767,  1.3211,  1.3211, -1.4731, -0.4437,  0.5810,\n",
      "         2.5220, -0.4437,  1.3211,  1.3211, -0.7675, -0.4437,  0.8838, -0.4437,\n",
      "        -0.7494, -1.8593,  0.8838, -1.8593, -0.4437,  0.4147, -0.2601, -0.7675,\n",
      "         0.0541, -0.7675, -0.7675,  0.9292,  2.5220,  2.5220, -0.7675, -0.7675,\n",
      "        -0.7675, -0.1119,  0.4993, -1.7767, -0.7494,  0.0541, -1.8593,  2.5220,\n",
      "         0.0541, -0.2656,  0.8838,  0.9292,  0.9292, -0.7675, -0.1119, -0.2601,\n",
      "         0.4993,  0.4993, -0.2102, -0.1119,  0.4147,  0.4147,  0.9292,  0.4993,\n",
      "         0.4147,  0.8838,  0.9292, -1.7767,  1.3211,  0.8838,  0.9292,  0.4993,\n",
      "        -0.4379,  1.3211, -0.2656,  1.3211, -0.7675, -0.7675, -0.2601, -0.7675,\n",
      "        -0.2601,  2.5220,  2.5220,  1.3211,  1.3211,  1.3211,  1.3211,  2.5220,\n",
      "         1.3211,  1.3211,  1.3211,  1.3211,  2.5220,  1.3211,  1.3211,  1.3211,\n",
      "         1.3211,  2.5220, -0.7494, -1.4731, -0.2601,  0.0541, -0.7675, -0.2656,\n",
      "         2.5220,  0.5810, -0.1119, -0.7675,  0.0541,  2.5220,  0.0541,  2.5220,\n",
      "         0.5810,  1.3211, -0.7494,  0.4147, -0.1119, -0.7675,  0.0541,  2.5220,\n",
      "        -0.2102,  0.4147, -0.1119,  2.5220, -1.8593,  1.3211, -0.2601,  2.5220,\n",
      "        -0.7675,  2.5220,  1.3211,  0.4993,  2.5220,  0.4993,  0.0541, -0.1317,\n",
      "        -0.4379,  0.4993, -0.2656, -0.2656, -1.8593,  0.5810,  1.3211, -0.2656,\n",
      "        -0.1119,  0.5810,  0.4147,  0.0541,  0.0541, -1.4731,  0.4993,  0.0541,\n",
      "        -0.1119,  2.5220,  0.4993,  0.0541, -0.7494,  2.5220,  1.3211, -0.2601,\n",
      "         0.5810, -0.1119,  0.4147,  0.8838,  2.5220,  1.3211,  2.5220,  1.3211,\n",
      "         2.5220,  1.3211, -0.7675,  0.9292,  0.8838, -0.7675,  0.0541, -0.7675,\n",
      "        -1.4731,  2.5220,  2.5220,  0.0541, -0.7494,  0.5810, -0.7494,  0.9292,\n",
      "         0.8838, -0.1119, -0.2601,  0.4993,  0.4993, -0.2102, -0.2656, -0.1317,\n",
      "         2.5220,  0.4147,  0.9292,  0.0541,  0.5810,  0.0541, -0.7675,  0.8838,\n",
      "         1.3211,  1.3211,  1.3211, -0.7675, -1.8593, -0.2601, -0.7494, -1.4731,\n",
      "        -1.8593,  0.4147,  0.0541, -0.7494], grad_fn=<ReshapeAliasBackward0>)\n"
     ]
    },
    {
     "name": "stderr",
     "output_type": "stream",
     "text": [
      "/var/folders/hd/rt0tld6j7pvczxlpknvs6wn00000gn/T/ipykernel_8134/488224492.py:26: UserWarning: To copy construct from a tensor, it is recommended to use sourceTensor.clone().detach() or sourceTensor.clone().detach().requires_grad_(True), rather than torch.tensor(sourceTensor).\n",
      "  return tok_emb(torch.tensor(seq,dtype=torch.long))\n"
     ]
    }
   ],
   "source": [
    "train_dataset = ProteinDataset(df_train)\n",
    "X, y =train_dataset[0]\n",
    "print(X)\n",
    "#print(y)"
   ]
  },
  {
   "attachments": {},
   "cell_type": "markdown",
   "metadata": {},
   "source": [
    "https://github.com/yunjey/pytorch-tutorial/blob/master/tutorials/02-intermediate/bidirectional_recurrent_neural_network/main.py\n",
    "\n",
    "https://github.com/CrosstabKite/lstm-forecasting/blob/master/lstm_forecasting.ipynb\n"
   ]
  },
  {
   "cell_type": "code",
   "execution_count": 455,
   "metadata": {},
   "outputs": [],
   "source": [
    "torch.manual_seed(101)\n",
    "\n",
    "batch_size = 1\n",
    "\n",
    "train_dataset = ProteinDataset(df_train)\n",
    "test_dataset = ProteinDataset(df_test)\n",
    "\n",
    "train_loader = DataLoader(train_dataset, batch_size=batch_size, shuffle=True)\n",
    "test_loader = DataLoader(test_dataset, batch_size=batch_size, shuffle=False)"
   ]
  },
  {
   "cell_type": "code",
   "execution_count": 456,
   "metadata": {},
   "outputs": [],
   "source": [
    "class ShallowRegressionLSTM(nn.Module):\n",
    "    def __init__(self, features, hidden_units):\n",
    "        super().__init__()\n",
    "        self.features = features  # this is the number of features\n",
    "        self.hidden_units = hidden_units\n",
    "        self.num_layers = 1\n",
    "\n",
    "        self.lstm = nn.LSTM(\n",
    "            input_size=features,\n",
    "            hidden_size=hidden_units,\n",
    "            batch_first=True,\n",
    "            num_layers=self.num_layers\n",
    "        )\n",
    "\n",
    "        self.linear = nn.Linear(in_features=self.hidden_units, out_features=1)\n",
    "\n",
    "    def forward(self, x):\n",
    "        batch_size = 1\n",
    "        h0 = torch.zeros(self.num_layers, batch_size, self.hidden_units).requires_grad_()\n",
    "        c0 = torch.zeros(self.num_layers, batch_size, self.hidden_units).requires_grad_()\n",
    "        \n",
    "        _, (hn, _) = self.lstm(x, (h0, c0))\n",
    "        out = self.linear(hn[0]).flatten()  # First dim of Hn is num_layers, which is set to 1 above.\n",
    "\n",
    "        return out"
   ]
  },
  {
   "attachments": {},
   "cell_type": "markdown",
   "metadata": {},
   "source": [
    "# Training for Bidirectional LSTM"
   ]
  },
  {
   "cell_type": "code",
   "execution_count": 451,
   "metadata": {},
   "outputs": [],
   "source": [
    "learning_rate = 5e-5\n",
    "num_hidden_units = 1\n",
    "\n",
    "model = ShallowRegressionLSTM(features=252, hidden_units=num_hidden_units)\n",
    "loss_function = nn.MSELoss()\n",
    "optimizer = torch.optim.Adam(model.parameters(), lr=learning_rate)"
   ]
  },
  {
   "cell_type": "code",
   "execution_count": 459,
   "metadata": {},
   "outputs": [],
   "source": [
    "def train_model(data_loader, model, loss_function, optimizer):\n",
    "    num_batches = len(data_loader)\n",
    "    total_loss = 0\n",
    "    model.train()\n",
    "    \n",
    "    for X, y in data_loader:\n",
    "    #for X, y, in enumerate(train_dataset):\n",
    "        output = model(X)\n",
    "        loss = loss_function(output, y)\n",
    "\n",
    "        optimizer.zero_grad()\n",
    "        loss.backward()\n",
    "        optimizer.step()\n",
    "\n",
    "        total_loss += loss.item()\n",
    "\n",
    "    avg_loss = total_loss / num_batches\n",
    "    print(f\"Train loss: {avg_loss}\")\n",
    "\n",
    "def test_model(data_loader, model, loss_function):\n",
    "    \n",
    "    num_batches = len(data_loader)\n",
    "    total_loss = 0\n",
    "\n",
    "    model.eval()\n",
    "    with torch.no_grad():\n",
    "        for X, y in data_loader:\n",
    "            output = model(X)\n",
    "            total_loss += loss_function(output, y).item()\n",
    "\n",
    "    avg_loss = total_loss / num_batches\n",
    "    print(f\"Test loss: {avg_loss}\")"
   ]
  },
  {
   "cell_type": "code",
   "execution_count": null,
   "metadata": {},
   "outputs": [],
   "source": [
    "#print(\"Untrained test\\n--------\")\n",
    "#test_model(test_loader, model, loss_function)\n",
    "#print()\n",
    "\n",
    "for ix_epoch in range(2):\n",
    "    print(f\"Epoch {ix_epoch}\\n---------\")\n",
    "    train_model(train_loader, model, loss_function, optimizer=optimizer)\n",
    "    #test_model(test_loader, model, loss_function)\n",
    "    print()"
   ]
  },
  {
   "attachments": {},
   "cell_type": "markdown",
   "metadata": {},
   "source": [
    "# Streaming ML with River Torch"
   ]
  },
  {
   "cell_type": "code",
   "execution_count": 655,
   "metadata": {},
   "outputs": [],
   "source": [
    "df3 = pd.read_csv('data/20230331_pembro_SSMplus_AlphaSeq_data_unique_embedding.csv')"
   ]
  },
  {
   "cell_type": "code",
   "execution_count": 656,
   "metadata": {},
   "outputs": [],
   "source": [
    "# scale target Kd column\n",
    "from sklearn.preprocessing import MinMaxScaler\n",
    "scaler = MinMaxScaler()\n",
    "df3[['Kd']] = scaler.fit_transform(df3[['Kd']])\n",
    "df_train = df3.sample(frac=0.8,random_state=200)\n",
    "df_test = df3.drop(df_train.index)"
   ]
  },
  {
   "cell_type": "code",
   "execution_count": 657,
   "metadata": {},
   "outputs": [
    {
     "data": {
      "text/html": [
       "<div>\n",
       "<style scoped>\n",
       "    .dataframe tbody tr th:only-of-type {\n",
       "        vertical-align: middle;\n",
       "    }\n",
       "\n",
       "    .dataframe tbody tr th {\n",
       "        vertical-align: top;\n",
       "    }\n",
       "\n",
       "    .dataframe thead th {\n",
       "        text-align: right;\n",
       "    }\n",
       "</style>\n",
       "<table border=\"1\" class=\"dataframe\">\n",
       "  <thead>\n",
       "    <tr style=\"text-align: right;\">\n",
       "      <th></th>\n",
       "      <th>sequence_a</th>\n",
       "      <th>Kd</th>\n",
       "      <th>Kd_lower_bound</th>\n",
       "      <th>Kd_upper_bound</th>\n",
       "      <th>embedding</th>\n",
       "    </tr>\n",
       "  </thead>\n",
       "  <tbody>\n",
       "    <tr>\n",
       "      <th>7931</th>\n",
       "      <td>MASQVQLVQSGVEVKKPGASVKVSCKASGYTFENYYMYWVRQAPGQ...</td>\n",
       "      <td>0.186461</td>\n",
       "      <td>0.971318</td>\n",
       "      <td>1.038884</td>\n",
       "      <td>[11, 1, 16, 14, 18, 14, 10, 18, 14, 16, 6, 18,...</td>\n",
       "    </tr>\n",
       "    <tr>\n",
       "      <th>26860</th>\n",
       "      <td>MASQVQLVQSGVEVKKPGASVKVSCKASGYTFNNYYMYWVRQAPGQ...</td>\n",
       "      <td>0.055731</td>\n",
       "      <td>0.360055</td>\n",
       "      <td>0.394214</td>\n",
       "      <td>[11, 1, 16, 14, 18, 14, 10, 18, 14, 16, 6, 18,...</td>\n",
       "    </tr>\n",
       "    <tr>\n",
       "      <th>5727</th>\n",
       "      <td>MASQVQLVQSGVEVKKPGASVKVSCKASGYTFTNYYMYWVRQAPGQ...</td>\n",
       "      <td>0.685736</td>\n",
       "      <td>2.846888</td>\n",
       "      <td>3.959896</td>\n",
       "      <td>[11, 1, 16, 14, 18, 14, 10, 18, 14, 16, 6, 18,...</td>\n",
       "    </tr>\n",
       "    <tr>\n",
       "      <th>14067</th>\n",
       "      <td>MASQVQLVQSGVEVKKPGASVKVSCKASGYTFTNYYMYWWRQAPGQ...</td>\n",
       "      <td>0.129232</td>\n",
       "      <td>0.707022</td>\n",
       "      <td>0.753379</td>\n",
       "      <td>[11, 1, 16, 14, 18, 14, 10, 18, 14, 16, 6, 18,...</td>\n",
       "    </tr>\n",
       "    <tr>\n",
       "      <th>5356</th>\n",
       "      <td>MASQVQLVQSGVEVKKPGASVKVSCKASGYTFTNYYRYWVRQAPGQ...</td>\n",
       "      <td>0.795592</td>\n",
       "      <td>3.168784</td>\n",
       "      <td>4.693398</td>\n",
       "      <td>[11, 1, 16, 14, 18, 14, 10, 18, 14, 16, 6, 18,...</td>\n",
       "    </tr>\n",
       "  </tbody>\n",
       "</table>\n",
       "</div>"
      ],
      "text/plain": [
       "                                              sequence_a        Kd  \\\n",
       "7931   MASQVQLVQSGVEVKKPGASVKVSCKASGYTFENYYMYWVRQAPGQ...  0.186461   \n",
       "26860  MASQVQLVQSGVEVKKPGASVKVSCKASGYTFNNYYMYWVRQAPGQ...  0.055731   \n",
       "5727   MASQVQLVQSGVEVKKPGASVKVSCKASGYTFTNYYMYWVRQAPGQ...  0.685736   \n",
       "14067  MASQVQLVQSGVEVKKPGASVKVSCKASGYTFTNYYMYWWRQAPGQ...  0.129232   \n",
       "5356   MASQVQLVQSGVEVKKPGASVKVSCKASGYTFTNYYRYWVRQAPGQ...  0.795592   \n",
       "\n",
       "       Kd_lower_bound  Kd_upper_bound  \\\n",
       "7931         0.971318        1.038884   \n",
       "26860        0.360055        0.394214   \n",
       "5727         2.846888        3.959896   \n",
       "14067        0.707022        0.753379   \n",
       "5356         3.168784        4.693398   \n",
       "\n",
       "                                               embedding  \n",
       "7931   [11, 1, 16, 14, 18, 14, 10, 18, 14, 16, 6, 18,...  \n",
       "26860  [11, 1, 16, 14, 18, 14, 10, 18, 14, 16, 6, 18,...  \n",
       "5727   [11, 1, 16, 14, 18, 14, 10, 18, 14, 16, 6, 18,...  \n",
       "14067  [11, 1, 16, 14, 18, 14, 10, 18, 14, 16, 6, 18,...  \n",
       "5356   [11, 1, 16, 14, 18, 14, 10, 18, 14, 16, 6, 18,...  "
      ]
     },
     "execution_count": 657,
     "metadata": {},
     "output_type": "execute_result"
    }
   ],
   "source": [
    "df_train.head(5)"
   ]
  },
  {
   "attachments": {},
   "cell_type": "markdown",
   "metadata": {},
   "source": [
    "# Model Training"
   ]
  },
  {
   "cell_type": "code",
   "execution_count": 659,
   "metadata": {},
   "outputs": [],
   "source": [
    "# convert list to dictionary for river torch input requirement\n",
    "def Convert(lst):\n",
    "    res_dct = {i: lst[i] for i in range(0, len(lst), 1)}\n",
    "    return res_dct"
   ]
  },
  {
   "cell_type": "code",
   "execution_count": 664,
   "metadata": {},
   "outputs": [
    {
     "name": "stdout",
     "output_type": "stream",
     "text": [
      "MAE: 0.13\n",
      "RMSE: 0.17\n"
     ]
    }
   ],
   "source": [
    "from river_torch.regression import RollingRegressor, Regressor \n",
    "#from deep_river.regression import RollingRegressor, Regressor\n",
    "from river import metrics, compose, preprocessing, datasets, stats, feature_extraction\n",
    "from torch import nn\n",
    "from tqdm import tqdm\n",
    "import pickle\n",
    "\n",
    "class LstmModule(nn.Module):\n",
    "\n",
    "    def __init__(self, n_features, hidden_size=1):\n",
    "        super().__init__()\n",
    "        self.n_features=n_features\n",
    "        self.hidden_size = hidden_size\n",
    "        self.lstm = nn.LSTM(input_size=n_features, hidden_size=hidden_size, num_layers=4, bidirectional=True)\n",
    "        self.fc = nn.Linear(in_features=2*hidden_size,out_features=1) # 2 for bidirection\n",
    "\n",
    "    def forward(self, X, **kwargs):\n",
    "        output, (hn, cn) = self.lstm(X)  # lstm with input, hidden, and internal state\n",
    "        return self.fc(output[-1, :])\n",
    "\n",
    "#dataset = datasets.Bikes()\n",
    "metric = metrics.MAE()\n",
    "rmse = metrics.RMSE()\n",
    "\n",
    "model_pipeline = Regressor(\n",
    "    module=LstmModule,\n",
    "    loss_fn = 'mse',\n",
    "    optimizer_fn = 'sgd',  #adam: 0.15, sgd: 0.13\n",
    "    lr = 1e-2,\n",
    "    hidden_size = 128,  # 32 parameters of MyModule can be overwritten\n",
    ")\n",
    "\n",
    "\n",
    "if __name__ == \"__main__\":\n",
    "    model_pipeline\n",
    "    y_mes_train = []\n",
    "    y_pred_train = []\n",
    "    loss_train = []\n",
    "    count = 0\n",
    "    new_shape = (1,1)\n",
    "    for index, row  in df_train.iterrows():\n",
    "        x_train = Convert(embedding2(ast.literal_eval(row[\"embedding\"])).flatten().tolist())\n",
    "        y_train = row[\"Kd\"]\n",
    "        y_pred = model_pipeline.predict_one(x_train)\n",
    "        y_train = torch.from_numpy(np.array(y_train))\n",
    "        y_train = y_train.view(new_shape)\n",
    "\n",
    "        metric = metric.update(y_true=y_train, y_pred=y_pred)\n",
    "        model_pipeline = model_pipeline.learn_one(x=x_train, y=y_train)\n",
    "        y_mes_train.append(y_train.detach().numpy()[0][0])\n",
    "        y_pred_train.append(y_pred)\n",
    "        rmse = rmse.update(y_true=y_train, y_pred=y_pred)\n",
    "        loss_train.append(rmse.get().detach().numpy()[0][0])\n",
    "        count += 1\n",
    "    print(f'MAE: {metric.get().detach().numpy()[0][0]:.2f}')\n",
    "    print(f'RMSE: {rmse.get().detach().numpy()[0][0]:.2f}')\n",
    "\n",
    "# save model for inference\n",
    "with open('data/model.pkl', 'wb') as f:\n",
    "    pickle.dump(model_pipeline, f)"
   ]
  },
  {
   "cell_type": "code",
   "execution_count": 648,
   "metadata": {},
   "outputs": [
    {
     "name": "stdout",
     "output_type": "stream",
     "text": [
      "Pearson Correlation, Test Data: -0.05\n"
     ]
    }
   ],
   "source": [
    "print(\"Pearson Correlation, Test Data: %.2f\" %(np.corrcoef(y_mes_train,y_pred_train)[0,1]))"
   ]
  },
  {
   "cell_type": "code",
   "execution_count": 665,
   "metadata": {},
   "outputs": [
    {
     "data": {
      "image/png": "[encoded data removed]",
      "text/plain": [
       "<Figure size 640x480 with 1 Axes>"
      ]
     },
     "metadata": {},
     "output_type": "display_data"
    }
   ],
   "source": [
    "plt.plot(loss_train)\n",
    "plt.title('loss_train')\n",
    "plt.ylabel('loss')\n",
    "plt.xlabel('data point #')\n",
    "plt.grid(True)\n",
    "plt.show()"
   ]
  },
  {
   "attachments": {},
   "cell_type": "markdown",
   "metadata": {},
   "source": [
    "# Inference on Held-Out Data"
   ]
  },
  {
   "cell_type": "code",
   "execution_count": 684,
   "metadata": {},
   "outputs": [
    {
     "name": "stdout",
     "output_type": "stream",
     "text": [
      "MAE: 0.12\n",
      "RMSE: 0.16\n"
     ]
    }
   ],
   "source": [
    "# inference on held-out data'\n",
    "import matplotlib.pyplot as plt\n",
    "\n",
    "y_mes_test = []\n",
    "y_pred_test = []\n",
    "metric = metrics.MAE()\n",
    "rmse = metrics.RMSE()\n",
    "# load\n",
    "with open('data/model.pkl', 'rb') as f:\n",
    "    model = pickle.load(f)\n",
    "mae = []\n",
    "mse = []\n",
    "for index, row  in df_test.iterrows():\n",
    "    x_test = Convert(embedding2(ast.literal_eval(row[\"embedding\"])).flatten().tolist())\n",
    "    y_test = row[\"Kd\"]\n",
    "    y_pred = model.predict_one(x_test)\n",
    "    metric = metric.update(y_true=y_test, y_pred=y_pred)\n",
    "    rmse = rmse.update(y_true=y_test, y_pred=y_pred)\n",
    "    y_mes_test.append(y_test)\n",
    "    y_pred_test.append(y_pred)\n",
    "    mae.append(metric.get()) #.numpy()[0][0])\n",
    "    mse.append(rmse.get()) #.numpy()[0][0])\n",
    "print(f'MAE: {sum(mae)/len(mae):.2f}')\n",
    "print(f'RMSE: {sum(mse)/len(mse):.2f}')\n",
    "#plt.plot(mae)\n",
    "#plt.title('MAE on held-out data')\n",
    "#plt.show()\n"
   ]
  },
  {
   "cell_type": "code",
   "execution_count": 683,
   "metadata": {},
   "outputs": [
    {
     "data": {
      "text/plain": [
       "0.08504190915734922"
      ]
     },
     "execution_count": 683,
     "metadata": {},
     "output_type": "execute_result"
    }
   ],
   "source": [
    "metric.get()"
   ]
  },
  {
   "cell_type": "code",
   "execution_count": 667,
   "metadata": {},
   "outputs": [
    {
     "name": "stdout",
     "output_type": "stream",
     "text": [
      "Pearson Correlation, Test Data: 0.16\n"
     ]
    }
   ],
   "source": [
    "print(\"Pearson Correlation, Test Data: %.2f\" %(np.corrcoef(y_mes_test,y_pred_test)[0,1]))"
   ]
  }
 ],
 "metadata": {
  "kernelspec": {
   "display_name": "Python 3",
   "language": "python",
   "name": "python3"
  },
  "language_info": {
   "codemirror_mode": {
    "name": "ipython",
    "version": 3
   },
   "file_extension": ".py",
   "mimetype": "text/x-python",
   "name": "python",
   "nbconvert_exporter": "python",
   "pygments_lexer": "ipython3",
   "version": "3.9.12"
  },
  "orig_nbformat": 4
 },
 "nbformat": 4,
 "nbformat_minor": 2
}
